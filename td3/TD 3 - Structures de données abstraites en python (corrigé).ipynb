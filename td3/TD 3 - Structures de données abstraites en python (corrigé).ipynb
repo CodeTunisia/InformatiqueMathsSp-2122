{
  "nbformat": 4,
  "nbformat_minor": 0,
  "metadata": {
    "kernelspec": {
      "display_name": "Python 3",
      "language": "python",
      "name": "python3"
    },
    "language_info": {
      "codemirror_mode": {
        "name": "ipython",
        "version": 3
      },
      "file_extension": ".py",
      "mimetype": "text/x-python",
      "name": "python",
      "nbconvert_exporter": "python",
      "pygments_lexer": "ipython3",
      "version": "3.7.6"
    },
    "colab": {
      "name": "TD 3 - Structures de données abstraites en python (corrigé).ipynb",
      "provenance": [],
      "include_colab_link": true
    }
  },
  "cells": [
    {
      "cell_type": "markdown",
      "metadata": {
        "id": "view-in-github",
        "colab_type": "text"
      },
      "source": [
        "<a href=\"https://colab.research.google.com/github/CodeTunisia/InformatiqueMathsSpe-2122/blob/main/td3/TD%203%20-%20Structures%20de%20donn%C3%A9es%20abstraites%20en%20python%20(corrig%C3%A9).ipynb\" target=\"_parent\"><img src=\"https://colab.research.google.com/assets/colab-badge.svg\" alt=\"Open In Colab\"/></a>"
      ]
    },
    {
      "cell_type": "markdown",
      "metadata": {
        "id": "5qPlcLOvpRLs"
      },
      "source": [
        "# Première partie : Applications - Piles\n",
        "## Exercice 1 : Opérations élémentaires sur les piles"
      ]
    },
    {
      "cell_type": "code",
      "metadata": {
        "id": "WOc_4PmHpRL1",
        "outputId": "611a92d9-9816-4852-eb1b-90746c4ccb01"
      },
      "source": [
        "# %load pile.py\n",
        "def creer_pile():\n",
        "    '''\n",
        "    créér une pile\n",
        "    '''\n",
        "    return []\n",
        "def empiler(p,x):\n",
        "    '''\n",
        "    ajouter une élément à la pile\n",
        "    '''\n",
        "    p.append(x)\n",
        "def hauteur(p):\n",
        "    '''\n",
        "    Donner la taille de la pile\n",
        "    '''\n",
        "    return len(p)\n",
        "def est_vide(p):\n",
        "    '''\n",
        "    tester si la pile est vide ou non\n",
        "    '''\n",
        "    return hauteur(p) == 0\n",
        "def sommet(p):\n",
        "    '''\n",
        "    donner l'élément au sommet\n",
        "    '''\n",
        "    if est_vide(p):\n",
        "        print(\"La pile est vide!\")\n",
        "    else:\n",
        "        return p[-1]\n",
        "def depiler(p):\n",
        "    '''\n",
        "    si n'est pas vide, faire sortir le dernier émlément de la pile\n",
        "    '''\n",
        "    if est_vide(p):\n",
        "        print(\"La pile est vide!\")\n",
        "    else:\n",
        "        return p.pop()\n",
        "if __name__ == \"__main__\":\n",
        "    p = creer_pile()\n",
        "    print(hauteur(p))\n",
        "    N = int(input(\"saisir un nombre d'éléments : \"))\n",
        "    for i in range(N):\n",
        "        empiler(p, i)\n",
        "    print(p)\n",
        "    print(hauteur(p))\n",
        "    for i in range(hauteur(p)):\n",
        "        depiler(p)\n",
        "    print(p)"
      ],
      "execution_count": null,
      "outputs": [
        {
          "name": "stdout",
          "output_type": "stream",
          "text": [
            "0\n",
            "saisir un nombre d'éléments : 4\n",
            "[0, 1, 2, 3]\n",
            "4\n",
            "[]\n"
          ]
        }
      ]
    },
    {
      "cell_type": "markdown",
      "metadata": {
        "id": "dasKfho4pRL7"
      },
      "source": [
        "## Exercice 2 : Manipulations simples de piles"
      ]
    },
    {
      "cell_type": "code",
      "metadata": {
        "colab": {
          "base_uri": "https://localhost:8080/"
        },
        "id": "0cbhb8yIp_yb",
        "outputId": "ac7ae194-0b90-41fe-9f26-dacaef5f05aa"
      },
      "source": [
        "# Puisque ce notebook s'éxécute en ligne :\n",
        "# télécharger le module pile.py dans le répertoire courant\n",
        "!wget https://raw.githubusercontent.com/CodeTunisia/InformatiqueMathsSpe-2122/main/td3/pile.py"
      ],
      "execution_count": 1,
      "outputs": [
        {
          "output_type": "stream",
          "name": "stdout",
          "text": [
            "--2021-10-07 21:30:06--  https://raw.githubusercontent.com/CodeTunisia/InformatiqueMathsSpe-2122/main/td3/pile.py\n",
            "Resolving raw.githubusercontent.com (raw.githubusercontent.com)... 185.199.108.133, 185.199.109.133, 185.199.110.133, ...\n",
            "Connecting to raw.githubusercontent.com (raw.githubusercontent.com)|185.199.108.133|:443... connected.\n",
            "HTTP request sent, awaiting response... 200 OK\n",
            "Length: 882 [text/plain]\n",
            "Saving to: ‘pile.py’\n",
            "\n",
            "\rpile.py               0%[                    ]       0  --.-KB/s               \rpile.py             100%[===================>]     882  --.-KB/s    in 0s      \n",
            "\n",
            "2021-10-07 21:30:06 (34.9 MB/s) - ‘pile.py’ saved [882/882]\n",
            "\n"
          ]
        }
      ]
    },
    {
      "cell_type": "code",
      "metadata": {
        "id": "K7LPn_8SpRL8"
      },
      "source": [
        "from pile import *\n",
        "#Q1/\n",
        "def Max_Min(P):\n",
        "    if not est_vide(P):\n",
        "        Max=Min=sommet(P)\n",
        "        posMax=posMin=hauteur(P)\n",
        "    while not est_vide(P):\n",
        "        s, h=sommet(P), hauteur(P)\n",
        "        if s>Max:\n",
        "            Max=s\n",
        "            posMax= h\n",
        "        elif s<Min:\n",
        "            Min=s\n",
        "            posMin= h\n",
        "        depiler(P)\n",
        "    return(Max,posMax),(Min,posMin)"
      ],
      "execution_count": 2,
      "outputs": []
    },
    {
      "cell_type": "code",
      "metadata": {
        "colab": {
          "base_uri": "https://localhost:8080/"
        },
        "id": "ZWNJ69s3pRL-",
        "outputId": "33962067-701c-41f4-ef9a-742d3411b81f"
      },
      "source": [
        "import random as rd\n",
        "L = [rd.randint(-50, 50) for _ in range(10)]\n",
        "P = creer_pile()\n",
        "for x in L:\n",
        "    empiler(P, x)\n",
        "print(P)"
      ],
      "execution_count": 3,
      "outputs": [
        {
          "output_type": "stream",
          "name": "stdout",
          "text": [
            "[10, 31, -12, 27, -17, 4, 13, -43, 29, 10]\n"
          ]
        }
      ]
    },
    {
      "cell_type": "code",
      "metadata": {
        "id": "2o7euljspRL_",
        "outputId": "587879a0-ba2f-45d0-b38d-3ec9413a92a8"
      },
      "source": [
        "Max_Min(P)"
      ],
      "execution_count": null,
      "outputs": [
        {
          "data": {
            "text/plain": [
              "((43, 2), (-31, 3))"
            ]
          },
          "execution_count": 6,
          "metadata": {},
          "output_type": "execute_result"
        }
      ]
    },
    {
      "cell_type": "code",
      "metadata": {
        "id": "1AAoEc1ppRMA"
      },
      "source": [
        "#Q2/\n",
        "def reverse(P):\n",
        "    P1=creer_pile()\n",
        "    while not est_vide(P):\n",
        "        empiler(P1, sommet(P))\n",
        "        depiler(P)\n",
        "    return P1"
      ],
      "execution_count": null,
      "outputs": []
    },
    {
      "cell_type": "code",
      "metadata": {
        "id": "MXG63qYxpRMC",
        "outputId": "419377c0-3053-4e8d-d688-96ffae6ea849"
      },
      "source": [
        "P = creer_pile()\n",
        "for x in L:\n",
        "    empiler(P, x)\n",
        "print(P)"
      ],
      "execution_count": null,
      "outputs": [
        {
          "name": "stdout",
          "output_type": "stream",
          "text": [
            "[12, 43, -31, 0, 21, -11, 3, -19, 25, -29]\n"
          ]
        }
      ]
    },
    {
      "cell_type": "code",
      "metadata": {
        "id": "bMDtrcB9pRMD",
        "outputId": "8a04e318-9b5d-4c5e-bce5-b5398c2d2ff7"
      },
      "source": [
        "reverse(P)"
      ],
      "execution_count": null,
      "outputs": [
        {
          "data": {
            "text/plain": [
              "[-29, 25, -19, 3, -11, 21, 0, -31, 43, 12]"
            ]
          },
          "execution_count": 9,
          "metadata": {},
          "output_type": "execute_result"
        }
      ]
    },
    {
      "cell_type": "markdown",
      "metadata": {
        "id": "qdRuvPBLpRMF"
      },
      "source": [
        "## Exercice 3 : Expression arithmétique postfixée"
      ]
    },
    {
      "cell_type": "markdown",
      "metadata": {
        "id": "eajqi1mApRMH"
      },
      "source": [
        "### Une méthode \n",
        "application sur les tableaux et les chaînes de carctaires."
      ]
    },
    {
      "cell_type": "code",
      "metadata": {
        "id": "z7F9W5VspRMI"
      },
      "source": [
        "from pile import *\n",
        "def evalpostfixe1(expr):\n",
        "    p=creer_pile()\n",
        "    for k in expr:\n",
        "        print(k)\n",
        "        if k!='+' and k!='-' and k!= '*':\n",
        "            empiler(p,k)\n",
        "        else :\n",
        "            a=depiler(p)\n",
        "            b=depiler(p)\n",
        "            if k=='*':\n",
        "                x=int(b)*int(a)\n",
        "            if k=='+' :\n",
        "                x=int(b)+int(a)\n",
        "            if k=='-' :\n",
        "                x=int(b)-int(a)\n",
        "            empiler(p,x)\n",
        "            print(\"p=\",p,\"x=\",x)\n",
        "    x=depiler(p)\n",
        "    return(x)"
      ],
      "execution_count": null,
      "outputs": []
    },
    {
      "cell_type": "code",
      "metadata": {
        "id": "fYpDvWuopRMJ",
        "outputId": "8b564317-876f-4481-fc74-991410eec410"
      },
      "source": [
        "evalpostfixe1(\"234+-5*\")"
      ],
      "execution_count": null,
      "outputs": [
        {
          "name": "stdout",
          "output_type": "stream",
          "text": [
            "2\n",
            "3\n",
            "4\n",
            "+\n",
            "p= ['2', 7] x= 7\n",
            "-\n",
            "p= [-5] x= -5\n",
            "5\n",
            "*\n",
            "p= [-25] x= -25\n"
          ]
        },
        {
          "data": {
            "text/plain": [
              "-25"
            ]
          },
          "execution_count": 11,
          "metadata": {},
          "output_type": "execute_result"
        }
      ]
    },
    {
      "cell_type": "code",
      "metadata": {
        "id": "0W5XP2StpRMK",
        "outputId": "a1164bd5-a9d9-409f-e68b-7fc42303db20"
      },
      "source": [
        "evalpostfixe1([1,2,'+',3,'*'])"
      ],
      "execution_count": null,
      "outputs": [
        {
          "name": "stdout",
          "output_type": "stream",
          "text": [
            "1\n",
            "2\n",
            "+\n",
            "p= [3] x= 3\n",
            "3\n",
            "*\n",
            "p= [9] x= 9\n"
          ]
        },
        {
          "data": {
            "text/plain": [
              "9"
            ]
          },
          "execution_count": 12,
          "metadata": {},
          "output_type": "execute_result"
        }
      ]
    },
    {
      "cell_type": "markdown",
      "metadata": {
        "id": "T0X64TwZpRMK"
      },
      "source": [
        "### Une deuxième méthode \n",
        "Application sur les expressions de type chaînes de caractères et en utilisant la fonction prédéfinie [`eval`](https://docs.python.org/fr/3/library/functions.html#eval)\n",
        "\n",
        "**Attention!**"
      ]
    },
    {
      "cell_type": "code",
      "metadata": {
        "id": "utkPLS7LpRML",
        "outputId": "81bdb211-0de4-4bf9-e92f-8e3e2c1857e5"
      },
      "source": [
        "a = 8\n",
        "eval(\"2.0 * a\") # 2.0 --> réel"
      ],
      "execution_count": null,
      "outputs": [
        {
          "data": {
            "text/plain": [
              "16.0"
            ]
          },
          "execution_count": 13,
          "metadata": {},
          "output_type": "execute_result"
        }
      ]
    },
    {
      "cell_type": "code",
      "metadata": {
        "id": "MFYf9YOzpRML",
        "outputId": "235c346b-8174-45d3-efa1-10a3ee35fb41"
      },
      "source": [
        "eval(\"2 * a\") # 2*a --> entier"
      ],
      "execution_count": null,
      "outputs": [
        {
          "data": {
            "text/plain": [
              "16"
            ]
          },
          "execution_count": 14,
          "metadata": {},
          "output_type": "execute_result"
        }
      ]
    },
    {
      "cell_type": "code",
      "metadata": {
        "id": "B-5O1_c6pRMN",
        "outputId": "494a3b14-3bd3-4c27-fd2e-2c40b2ac4259"
      },
      "source": [
        "eval(\"2 * a > 0\") # 2 * a > 0 --> Bool"
      ],
      "execution_count": null,
      "outputs": [
        {
          "data": {
            "text/plain": [
              "True"
            ]
          },
          "execution_count": 15,
          "metadata": {},
          "output_type": "execute_result"
        }
      ]
    },
    {
      "cell_type": "code",
      "metadata": {
        "id": "DNXaAgIApRMN"
      },
      "source": [
        "def evalpostfixe2(ch):\n",
        "    p=creer_pile()\n",
        "    for k in ch:\n",
        "        if k.isdigit():\n",
        "            empiler(p,k)\n",
        "        else:\n",
        "            a=depiler(p)\n",
        "            b=depiler(p)\n",
        "            print(b+k+a) # concatination de b, k et a!\n",
        "            empiler(p,str(eval(b+k+a))) # l'elt à empiler doit être une chîne\n",
        "    return(depiler(p))"
      ],
      "execution_count": null,
      "outputs": []
    },
    {
      "cell_type": "code",
      "metadata": {
        "id": "uUxPY8FZpRMO",
        "outputId": "a927dc80-5456-4d76-d04a-31a8fae1029a"
      },
      "source": [
        "evalpostfixe2(\"12+46-*\")\n"
      ],
      "execution_count": null,
      "outputs": [
        {
          "name": "stdout",
          "output_type": "stream",
          "text": [
            "1+2\n",
            "4-6\n",
            "3*-2\n"
          ]
        },
        {
          "data": {
            "text/plain": [
              "'-6'"
            ]
          },
          "execution_count": 17,
          "metadata": {},
          "output_type": "execute_result"
        }
      ]
    },
    {
      "cell_type": "markdown",
      "metadata": {
        "id": "XKe6_zEXpRMO"
      },
      "source": [
        "## Exercice 4 : Expression bien parenthésée"
      ]
    },
    {
      "cell_type": "code",
      "metadata": {
        "id": "gA6niX11pRMQ"
      },
      "source": [
        "from pile import *\n",
        "def tester1(ch):\n",
        "    p = creer_pile()\n",
        "    for j in range(len(ch)):\n",
        "        if ch[j]=='(':\n",
        "            empiler(p, j)\n",
        "        elif ch[j]==')':\n",
        "            if est_vide(p):\n",
        "                return \") à l'indice {} n'est pas ouverte !\".format(j)\n",
        "            else:\n",
        "                i=depiler(p)\n",
        "                couple = (i, j)\n",
        "                print(\"Couple {} correct\".format(couple))\n",
        "    if est_vide(p):\n",
        "        return 'Parenthésage OK'\n",
        "    else:\n",
        "        return \"( à l'indice {} n'est pas refermée !\".format(sommet(p))"
      ],
      "execution_count": null,
      "outputs": []
    },
    {
      "cell_type": "code",
      "metadata": {
        "id": "3Cbgyy9TpRMQ",
        "outputId": "0c044be3-59d7-4651-dbc0-8de213e8d422"
      },
      "source": [
        "tester1(\"2+(3+b)*(5+(a-4))\")"
      ],
      "execution_count": null,
      "outputs": [
        {
          "name": "stdout",
          "output_type": "stream",
          "text": [
            "Couple (2, 6) correct\n",
            "Couple (11, 15) correct\n",
            "Couple (8, 16) correct\n"
          ]
        },
        {
          "data": {
            "text/plain": [
              "'Parenthésage OK'"
            ]
          },
          "execution_count": 19,
          "metadata": {},
          "output_type": "execute_result"
        }
      ]
    },
    {
      "cell_type": "code",
      "metadata": {
        "id": "umIVBbH9pRMR",
        "outputId": "78b43d5e-bcf0-4ccd-d2db-3a7f54908cf6"
      },
      "source": [
        "tester1(\"(a+8)*3)+4\")"
      ],
      "execution_count": null,
      "outputs": [
        {
          "name": "stdout",
          "output_type": "stream",
          "text": [
            "Couple (0, 4) correct\n"
          ]
        },
        {
          "data": {
            "text/plain": [
              "\") à l'indice 7 n'est pas ouverte !\""
            ]
          },
          "execution_count": 20,
          "metadata": {},
          "output_type": "execute_result"
        }
      ]
    },
    {
      "cell_type": "code",
      "metadata": {
        "id": "pQUdLRrPpRMR",
        "outputId": "6dca135c-5472-4f43-b0d5-bc67f17beb24"
      },
      "source": [
        "tester1(\"(b+8/5)+(4\")"
      ],
      "execution_count": null,
      "outputs": [
        {
          "name": "stdout",
          "output_type": "stream",
          "text": [
            "Couple (0, 6) correct\n"
          ]
        },
        {
          "data": {
            "text/plain": [
              "\"( à l'indice 8 n'est pas refermée !\""
            ]
          },
          "execution_count": 21,
          "metadata": {},
          "output_type": "execute_result"
        }
      ]
    },
    {
      "cell_type": "markdown",
      "metadata": {
        "id": "9vPCoTf6pRMS"
      },
      "source": [
        "# Deuxième partie Applications - File\n",
        "## Exercice 5 : Opérations élémentaires sur les files"
      ]
    },
    {
      "cell_type": "code",
      "metadata": {
        "id": "fbdWOZqCpRMS"
      },
      "source": [
        "# %load File.py\n",
        "def creer_file():\n",
        "    '''\n",
        "    créer une file (vide)\n",
        "    '''\n",
        "    return []\n",
        "\n",
        "def enfiler(f, elt):\n",
        "    '''\n",
        "    placer un élément en file d'attente\n",
        "    '''\n",
        "    f.append(elt)\n",
        "    \n",
        "def longueur(f):\n",
        "    '''\n",
        "    donne la longueur de la file\n",
        "    '''\n",
        "    return len(f)\n",
        "\n",
        "def est_vide(f):\n",
        "    '''\n",
        "    vérifier si la file est vide ou non\n",
        "    '''\n",
        "    return longueur(f) == 0\n",
        "def tete(f):\n",
        "    '''\n",
        "    retourne le premier élément entrée\n",
        "    '''\n",
        "    if not est_vide(f):\n",
        "        return f[0]\n",
        "    else:\n",
        "        print(\"la pile est vide\")\n",
        "\n",
        "def defiler(f):\n",
        "    '''\n",
        "    faire sortir le premier élément de la file\n",
        "    '''\n",
        "    if not est_vide(f):\n",
        "        return f.pop(0)\n",
        "    else :\n",
        "        print(\"la file est vide\")\n",
        "        "
      ],
      "execution_count": null,
      "outputs": []
    },
    {
      "cell_type": "markdown",
      "metadata": {
        "id": "T0wWVwAnpRMU"
      },
      "source": [
        "## Exercice 6 : Ordonnancement de processus / Algorithme du tourniquet (Round Robin)"
      ]
    },
    {
      "cell_type": "code",
      "metadata": {
        "colab": {
          "base_uri": "https://localhost:8080/"
        },
        "id": "uVNDT0zsqos1",
        "outputId": "a8b0c93f-7823-4fbf-910a-a65ceaf57ef8"
      },
      "source": [
        "# Puisque ce notebook s'éxécute en ligne :\n",
        "# télécharger le module File.py dans le répertoire courant\n",
        "!wget https://raw.githubusercontent.com/CodeTunisia/InformatiqueMathsSpe-2122/main/td3/File.py"
      ],
      "execution_count": 4,
      "outputs": [
        {
          "output_type": "stream",
          "name": "stdout",
          "text": [
            "--2021-10-07 21:34:34--  https://raw.githubusercontent.com/CodeTunisia/InformatiqueMathsSpe-2122/main/td3/File.py\n",
            "Resolving raw.githubusercontent.com (raw.githubusercontent.com)... 185.199.108.133, 185.199.109.133, 185.199.110.133, ...\n",
            "Connecting to raw.githubusercontent.com (raw.githubusercontent.com)|185.199.108.133|:443... connected.\n",
            "HTTP request sent, awaiting response... 200 OK\n",
            "Length: 707 [text/plain]\n",
            "Saving to: ‘File.py’\n",
            "\n",
            "\rFile.py               0%[                    ]       0  --.-KB/s               \rFile.py             100%[===================>]     707  --.-KB/s    in 0s      \n",
            "\n",
            "2021-10-07 21:34:34 (18.1 MB/s) - ‘File.py’ saved [707/707]\n",
            "\n"
          ]
        }
      ]
    },
    {
      "cell_type": "markdown",
      "metadata": {
        "id": "8w0s9YWKrO6a"
      },
      "source": [
        "**Ordonnancement de processus (vidéo)**"
      ]
    },
    {
      "cell_type": "code",
      "metadata": {
        "colab": {
          "base_uri": "https://localhost:8080/",
          "height": 321
        },
        "id": "mCzw141dpRMU",
        "outputId": "4456d7e0-72c8-4767-8472-eb0c829a896e"
      },
      "source": [
        "from IPython.display import YouTubeVideo\n",
        "YouTubeVideo('w9Uld56AsKE', width=800, height=300, start = 88)"
      ],
      "execution_count": 5,
      "outputs": [
        {
          "output_type": "execute_result",
          "data": {
            "text/html": [
              "\n",
              "        <iframe\n",
              "            width=\"800\"\n",
              "            height=\"300\"\n",
              "            src=\"https://www.youtube.com/embed/w9Uld56AsKE?start=88\"\n",
              "            frameborder=\"0\"\n",
              "            allowfullscreen\n",
              "        ></iframe>\n",
              "        "
            ],
            "text/plain": [
              "<IPython.lib.display.YouTubeVideo at 0x7f5e8e88a750>"
            ],
            "image/jpeg": "[encoded data removed]"
          },
          "metadata": {},
          "execution_count": 5
        }
      ]
    },
    {
      "cell_type": "code",
      "metadata": {
        "id": "HYZwoTIrpRMV"
      },
      "source": [
        "# Q1.\n",
        "from File import *\n",
        "import random as rd\n",
        "def creer_file_processus():\n",
        "    while True :\n",
        "        N=int(input(\"saisir nombre de processus : \"))\n",
        "        if N>0:\n",
        "            break\n",
        "    f=creer_file()\n",
        "    for i in range(1, N+1):\n",
        "        x=rd.randint(10, 100) # temps de proc en ms\n",
        "        enfiler(f,('P'+str(i),x))\n",
        "    return(f)"
      ],
      "execution_count": 6,
      "outputs": []
    },
    {
      "cell_type": "code",
      "metadata": {
        "colab": {
          "base_uri": "https://localhost:8080/"
        },
        "id": "caHWyYQipRMV",
        "outputId": "8879c850-b771-4c63-e73c-cec85a461ee7"
      },
      "source": [
        "creer_file_processus()"
      ],
      "execution_count": 7,
      "outputs": [
        {
          "name": "stdout",
          "output_type": "stream",
          "text": [
            "saisir nombre de processus : 7\n"
          ]
        },
        {
          "output_type": "execute_result",
          "data": {
            "text/plain": [
              "[('P1', 81),\n",
              " ('P2', 44),\n",
              " ('P3', 67),\n",
              " ('P4', 76),\n",
              " ('P5', 47),\n",
              " ('P6', 16),\n",
              " ('P7', 38)]"
            ]
          },
          "metadata": {},
          "execution_count": 7
        }
      ]
    },
    {
      "cell_type": "code",
      "metadata": {
        "id": "veSONkpwpRMW"
      },
      "source": [
        "def tourniquet():\n",
        "    f=creer_file_processus()\n",
        "    print(\"file initiale : \", f)\n",
        "    while True :\n",
        "        q=int(input(\"saisir le quantum alloué par processus : \"))\n",
        "        if q>0:\n",
        "            break\n",
        "    temps_attente = 0\n",
        "    while not(est_vide(f)):\n",
        "        t=tete(f)\n",
        "        if t[1]>q:\n",
        "            enfiler(f,(t[0],t[1]-q))\n",
        "            temps_attente+=q\n",
        "        else:\n",
        "            temps_attente+=t[1]\n",
        "        defiler(f)\n",
        "        print(f)\n",
        "    print(\"Temps total d'attete est {} ms\".format(temps_attente))"
      ],
      "execution_count": 8,
      "outputs": []
    },
    {
      "cell_type": "code",
      "metadata": {
        "colab": {
          "base_uri": "https://localhost:8080/"
        },
        "id": "LgtBqW8WpRMX",
        "outputId": "de15ddf5-4f9a-41e1-c07b-397e00a44869"
      },
      "source": [
        "tourniquet()"
      ],
      "execution_count": 9,
      "outputs": [
        {
          "output_type": "stream",
          "name": "stdout",
          "text": [
            "saisir nombre de processus : 6\n",
            "file initiale :  [('P1', 52), ('P2', 58), ('P3', 66), ('P4', 69), ('P5', 62), ('P6', 16)]\n",
            "saisir le quantum alloué par processus : 20\n",
            "[('P2', 58), ('P3', 66), ('P4', 69), ('P5', 62), ('P6', 16), ('P1', 32)]\n",
            "[('P3', 66), ('P4', 69), ('P5', 62), ('P6', 16), ('P1', 32), ('P2', 38)]\n",
            "[('P4', 69), ('P5', 62), ('P6', 16), ('P1', 32), ('P2', 38), ('P3', 46)]\n",
            "[('P5', 62), ('P6', 16), ('P1', 32), ('P2', 38), ('P3', 46), ('P4', 49)]\n",
            "[('P6', 16), ('P1', 32), ('P2', 38), ('P3', 46), ('P4', 49), ('P5', 42)]\n",
            "[('P1', 32), ('P2', 38), ('P3', 46), ('P4', 49), ('P5', 42)]\n",
            "[('P2', 38), ('P3', 46), ('P4', 49), ('P5', 42), ('P1', 12)]\n",
            "[('P3', 46), ('P4', 49), ('P5', 42), ('P1', 12), ('P2', 18)]\n",
            "[('P4', 49), ('P5', 42), ('P1', 12), ('P2', 18), ('P3', 26)]\n",
            "[('P5', 42), ('P1', 12), ('P2', 18), ('P3', 26), ('P4', 29)]\n",
            "[('P1', 12), ('P2', 18), ('P3', 26), ('P4', 29), ('P5', 22)]\n",
            "[('P2', 18), ('P3', 26), ('P4', 29), ('P5', 22)]\n",
            "[('P3', 26), ('P4', 29), ('P5', 22)]\n",
            "[('P4', 29), ('P5', 22), ('P3', 6)]\n",
            "[('P5', 22), ('P3', 6), ('P4', 9)]\n",
            "[('P3', 6), ('P4', 9), ('P5', 2)]\n",
            "[('P4', 9), ('P5', 2)]\n",
            "[('P5', 2)]\n",
            "[]\n",
            "Temps total d'attete est 323 ms\n"
          ]
        }
      ]
    },
    {
      "cell_type": "code",
      "metadata": {
        "id": "TQGqvDmxpRMY"
      },
      "source": [
        ""
      ],
      "execution_count": null,
      "outputs": []
    }
  ]
}