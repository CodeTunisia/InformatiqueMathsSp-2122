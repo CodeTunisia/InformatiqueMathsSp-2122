{
  "nbformat": 4,
  "nbformat_minor": 0,
  "metadata": {
    "kernelspec": {
      "display_name": "Python 3",
      "language": "python",
      "name": "python3"
    },
    "colab": {
      "name": "TD 3 - Structures de données abstraites en python (corrigé).ipynb",
      "provenance": [],
      "include_colab_link": true
    }
  },
  "cells": [
    {
      "cell_type": "markdown",
      "metadata": {
        "id": "view-in-github",
        "colab_type": "text"
      },
      "source": [
        "<a href=\"https://colab.research.google.com/github/CodeTunisia/InformatiqueMathsSpe-2122/blob/main/td3/TD%203%20-%20Structures%20de%20donn%C3%A9es%20abstraites%20en%20python%20(corrig%C3%A9).ipynb\" target=\"_parent\"><img src=\"https://colab.research.google.com/assets/colab-badge.svg\" alt=\"Open In Colab\"/></a>"
      ]
    },
    {
      "cell_type": "markdown",
      "metadata": {
        "id": "IdDuDLzJI4eb"
      },
      "source": [
        "# Première partie : Applications - Piles\n",
        "## Exercice 1 : Opérations élémentaires sur les piles"
      ]
    },
    {
      "cell_type": "code",
      "metadata": {
        "id": "yZxKzajPI4eo",
        "outputId": "8c94b939-ee15-4e40-ef26-b224f427956b"
      },
      "source": [
        "# %load pile.py\n",
        "def creer_pile():\n",
        "    '''\n",
        "    créér une pile\n",
        "    '''\n",
        "    return []\n",
        "def empiler(p,x):\n",
        "    '''\n",
        "    ajouter une élément à la pile\n",
        "    '''\n",
        "    return p.append(x)\n",
        "def hauteur(p):\n",
        "    '''\n",
        "    Donner la taille de la pile\n",
        "    '''\n",
        "    return len(p)\n",
        "def est_vide(p):\n",
        "    '''\n",
        "    tester si la pile est vide ou non\n",
        "    '''\n",
        "    return hauteur(p) == 0\n",
        "def sommet(p):\n",
        "    '''\n",
        "    donner l'élément au sommet\n",
        "    '''\n",
        "    return p[-1]\n",
        "def depiler(p):\n",
        "    '''\n",
        "    si n'est pas vide, faire sortir le dernier émlément de la pile\n",
        "    '''\n",
        "    if est_vide(p):\n",
        "        print(\"La pile est vide!\")\n",
        "    else:\n",
        "        return p.pop()\n",
        "if __name__ == \"__main__\":\n",
        "    p = creer_pile()\n",
        "    print(hauteur(p))\n",
        "    N = int(input(\"saisir un nombre d'éléments : \"))\n",
        "    for i in range(N):\n",
        "        empiler(p, i)\n",
        "    print(p)\n",
        "    print(hauteur(p))\n",
        "    for i in range(hauteur(p)):\n",
        "        depiler(p)\n",
        "    print(p)"
      ],
      "execution_count": null,
      "outputs": [
        {
          "name": "stdout",
          "output_type": "stream",
          "text": [
            "0\n",
            "saisir un nombre d'éléments : 4\n",
            "[0, 1, 2, 3]\n",
            "4\n",
            "[]\n"
          ]
        }
      ]
    },
    {
      "cell_type": "markdown",
      "metadata": {
        "id": "-ePV_C_EI-AH"
      },
      "source": [
        "**Téléchargement du module pile.py**"
      ]
    },
    {
      "cell_type": "code",
      "metadata": {
        "colab": {
          "base_uri": "https://localhost:8080/"
        },
        "id": "Y94DT1sVI8-0",
        "outputId": "c528fee8-54db-4103-8aa1-454652c98b20"
      },
      "source": [
        "!wget https://raw.githubusercontent.com/CodeTunisia/InformatiqueMathsSpe-2122/main/td3/pile.py"
      ],
      "execution_count": 1,
      "outputs": [
        {
          "output_type": "stream",
          "name": "stdout",
          "text": [
            "--2021-09-30 00:40:48--  https://raw.githubusercontent.com/CodeTunisia/InformatiqueMathsSpe-2122/main/td3/pile.py\n",
            "Resolving raw.githubusercontent.com (raw.githubusercontent.com)... 185.199.108.133, 185.199.109.133, 185.199.110.133, ...\n",
            "Connecting to raw.githubusercontent.com (raw.githubusercontent.com)|185.199.108.133|:443... connected.\n",
            "HTTP request sent, awaiting response... 200 OK\n",
            "Length: 889 [text/plain]\n",
            "Saving to: ‘pile.py’\n",
            "\n",
            "\rpile.py               0%[                    ]       0  --.-KB/s               \rpile.py             100%[===================>]     889  --.-KB/s    in 0s      \n",
            "\n",
            "2021-09-30 00:40:48 (26.9 MB/s) - ‘pile.py’ saved [889/889]\n",
            "\n"
          ]
        }
      ]
    },
    {
      "cell_type": "markdown",
      "metadata": {
        "id": "RQufbX5AI4ey"
      },
      "source": [
        "## Exercice 2 : Manipulations simples de piles"
      ]
    },
    {
      "cell_type": "code",
      "metadata": {
        "id": "y20Zq2NjI4ez"
      },
      "source": [
        "from pile import *\n",
        "#Q1/\n",
        "def Max_Min(P):\n",
        "    if not est_vide(P):\n",
        "        Max=Min=sommet(P)\n",
        "        posMax=posMin=hauteur(P)\n",
        "    while not est_vide(P):\n",
        "        s, h=sommet(P), hauteur(P)\n",
        "        if s>Max:\n",
        "            Max=s\n",
        "            posMax= h\n",
        "        elif s<Min:\n",
        "            Min=s\n",
        "            posMin= h\n",
        "        depiler(P)\n",
        "    return(Max,posMax),(Min,posMin)"
      ],
      "execution_count": 3,
      "outputs": []
    },
    {
      "cell_type": "code",
      "metadata": {
        "colab": {
          "base_uri": "https://localhost:8080/"
        },
        "id": "98up0QzPI4e1",
        "outputId": "ea36e31e-d2e4-4960-eb20-9ce9bb39b10e"
      },
      "source": [
        "import random as rd\n",
        "L = [rd.randint(-50, 50) for _ in range(10)]\n",
        "P = creer_pile()\n",
        "for x in L:\n",
        "    empiler(P, x)\n",
        "print(P)"
      ],
      "execution_count": 4,
      "outputs": [
        {
          "output_type": "stream",
          "name": "stdout",
          "text": [
            "[-39, 25, -38, 17, -29, 5, 34, 30, 13, -13]\n"
          ]
        }
      ]
    },
    {
      "cell_type": "code",
      "metadata": {
        "colab": {
          "base_uri": "https://localhost:8080/"
        },
        "id": "-vA6Ron8I4e4",
        "outputId": "f0254fec-bd09-40c5-c3f8-9ba5611eec68"
      },
      "source": [
        "Max_Min(P)"
      ],
      "execution_count": 5,
      "outputs": [
        {
          "output_type": "execute_result",
          "data": {
            "text/plain": [
              "((34, 7), (-39, 1))"
            ]
          },
          "metadata": {},
          "execution_count": 5
        }
      ]
    },
    {
      "cell_type": "code",
      "metadata": {
        "id": "vZoXRM9UI4e7"
      },
      "source": [
        "#Q2/\n",
        "def reverse(P):\n",
        "    P1=creer_pile()\n",
        "    while not est_vide(P):\n",
        "        empiler(P1, sommet(P))\n",
        "        depiler(P)\n",
        "    return P1"
      ],
      "execution_count": 6,
      "outputs": []
    },
    {
      "cell_type": "code",
      "metadata": {
        "colab": {
          "base_uri": "https://localhost:8080/"
        },
        "id": "VxAyB_esI4e9",
        "outputId": "f83ae67b-4a25-4902-b255-668cf56c0ad7"
      },
      "source": [
        "P = creer_pile()\n",
        "for x in L:\n",
        "    empiler(P, x)\n",
        "print(P)"
      ],
      "execution_count": 7,
      "outputs": [
        {
          "output_type": "stream",
          "name": "stdout",
          "text": [
            "[-39, 25, -38, 17, -29, 5, 34, 30, 13, -13]\n"
          ]
        }
      ]
    },
    {
      "cell_type": "code",
      "metadata": {
        "colab": {
          "base_uri": "https://localhost:8080/"
        },
        "id": "TruqcmuqI4e-",
        "outputId": "b03b925f-4b97-4fbc-9335-4c7a3889c80a"
      },
      "source": [
        "reverse(P)"
      ],
      "execution_count": 8,
      "outputs": [
        {
          "output_type": "execute_result",
          "data": {
            "text/plain": [
              "[-13, 13, 30, 34, 5, -29, 17, -38, 25, -39]"
            ]
          },
          "metadata": {},
          "execution_count": 8
        }
      ]
    },
    {
      "cell_type": "markdown",
      "metadata": {
        "id": "8oMX7Is1I4fB"
      },
      "source": [
        "## Exercice 3 : Expression arithmétique postfixée"
      ]
    },
    {
      "cell_type": "markdown",
      "metadata": {
        "id": "DwKPXVzmI4fC"
      },
      "source": [
        "### Une méthode \n",
        "application sur les tableaux et les chaînes de carctaires."
      ]
    },
    {
      "cell_type": "code",
      "metadata": {
        "id": "Pe1OsNc5I4fD"
      },
      "source": [
        "from pile import *\n",
        "def evalpostfixe1(expr):\n",
        "    p=creer_pile()\n",
        "    for k in expr:\n",
        "        print(k)\n",
        "        if k!='+' and k!='-' and k!= '*':\n",
        "            empiler(p,k)\n",
        "        else :\n",
        "            a=depiler(p)\n",
        "            b=depiler(p)\n",
        "            if k=='*':\n",
        "                x=int(b)*int(a)\n",
        "            if k=='+' :\n",
        "                x=int(b)+int(a)\n",
        "            if k=='-' :\n",
        "                x=int(b)-int(a)\n",
        "            empiler(p,x)\n",
        "            print(\"p=\",p,\"x=\",x)\n",
        "    x=depiler(p)\n",
        "    return(x)"
      ],
      "execution_count": 9,
      "outputs": []
    },
    {
      "cell_type": "code",
      "metadata": {
        "colab": {
          "base_uri": "https://localhost:8080/"
        },
        "id": "SH54W2YoI4fE",
        "outputId": "20d8174d-cf7a-4b2b-a5af-5c0db9c301e0"
      },
      "source": [
        "evalpostfixe1(\"234+-5*\")"
      ],
      "execution_count": 10,
      "outputs": [
        {
          "output_type": "stream",
          "name": "stdout",
          "text": [
            "2\n",
            "3\n",
            "4\n",
            "+\n",
            "p= ['2', 7] x= 7\n",
            "-\n",
            "p= [-5] x= -5\n",
            "5\n",
            "*\n",
            "p= [-25] x= -25\n"
          ]
        },
        {
          "output_type": "execute_result",
          "data": {
            "text/plain": [
              "-25"
            ]
          },
          "metadata": {},
          "execution_count": 10
        }
      ]
    },
    {
      "cell_type": "code",
      "metadata": {
        "colab": {
          "base_uri": "https://localhost:8080/"
        },
        "id": "-VXh809dI4fG",
        "outputId": "df99bd52-8fd9-49c6-c610-8c276f4f8b21"
      },
      "source": [
        "evalpostfixe1([1,2,'+',3,'*'])"
      ],
      "execution_count": 11,
      "outputs": [
        {
          "output_type": "stream",
          "name": "stdout",
          "text": [
            "1\n",
            "2\n",
            "+\n",
            "p= [3] x= 3\n",
            "3\n",
            "*\n",
            "p= [9] x= 9\n"
          ]
        },
        {
          "output_type": "execute_result",
          "data": {
            "text/plain": [
              "9"
            ]
          },
          "metadata": {},
          "execution_count": 11
        }
      ]
    },
    {
      "cell_type": "markdown",
      "metadata": {
        "id": "q01Ey1JxI4fI"
      },
      "source": [
        "### Une deuxième méthode \n",
        "Application sur les expressions de type chaînes de caractères et en utilisant la fonction prédéfinie [`eval`](https://docs.python.org/fr/3/library/functions.html#eval)\n",
        "\n",
        "**Attention!**"
      ]
    },
    {
      "cell_type": "code",
      "metadata": {
        "colab": {
          "base_uri": "https://localhost:8080/"
        },
        "id": "TCP7ljUYI4fJ",
        "outputId": "db909946-cef7-4019-82fa-c5be71cba442"
      },
      "source": [
        "a = 8\n",
        "eval(\"2.0 * a\") # 2.0 --> réel"
      ],
      "execution_count": 12,
      "outputs": [
        {
          "output_type": "execute_result",
          "data": {
            "text/plain": [
              "16.0"
            ]
          },
          "metadata": {},
          "execution_count": 12
        }
      ]
    },
    {
      "cell_type": "code",
      "metadata": {
        "colab": {
          "base_uri": "https://localhost:8080/"
        },
        "id": "Q6HKopO3I4fL",
        "outputId": "1445fa62-1b4e-4eb0-e16d-c591d069ce20"
      },
      "source": [
        "eval(\"2 * a\") # 2*a --> entier"
      ],
      "execution_count": 13,
      "outputs": [
        {
          "output_type": "execute_result",
          "data": {
            "text/plain": [
              "16"
            ]
          },
          "metadata": {},
          "execution_count": 13
        }
      ]
    },
    {
      "cell_type": "code",
      "metadata": {
        "colab": {
          "base_uri": "https://localhost:8080/"
        },
        "id": "FD-to_2zI4fN",
        "outputId": "36ba62bd-4fbc-42d0-f4e1-3c77586c23dd"
      },
      "source": [
        "eval(\"2 * a > 0\") # 2 * a > 0 --> Bool"
      ],
      "execution_count": 14,
      "outputs": [
        {
          "output_type": "execute_result",
          "data": {
            "text/plain": [
              "True"
            ]
          },
          "metadata": {},
          "execution_count": 14
        }
      ]
    },
    {
      "cell_type": "code",
      "metadata": {
        "id": "1-WcLCwkI4fO"
      },
      "source": [
        "def evalpostfixe2(ch):\n",
        "    p=creer_pile()\n",
        "    for k in ch:\n",
        "        if k.isdigit():\n",
        "            empiler(p,k)\n",
        "        else:\n",
        "            a=depiler(p)\n",
        "            b=depiler(p)\n",
        "            print(b+k+a) # concatination de b, k et a!\n",
        "            empiler(p,str(eval(b+k+a))) # l'elt à empiler doit être une chîne\n",
        "    return(depiler(p))"
      ],
      "execution_count": 15,
      "outputs": []
    },
    {
      "cell_type": "code",
      "metadata": {
        "colab": {
          "base_uri": "https://localhost:8080/",
          "height": 87
        },
        "id": "DSMRbkZAI4fO",
        "outputId": "6feb2e5d-abed-4a5b-8f9f-4171927080d6"
      },
      "source": [
        "evalpostfixe2(\"12+46-*\")\n"
      ],
      "execution_count": 16,
      "outputs": [
        {
          "output_type": "stream",
          "name": "stdout",
          "text": [
            "1+2\n",
            "4-6\n",
            "3*-2\n"
          ]
        },
        {
          "output_type": "execute_result",
          "data": {
            "application/vnd.google.colaboratory.intrinsic+json": {
              "type": "string"
            },
            "text/plain": [
              "'-6'"
            ]
          },
          "metadata": {},
          "execution_count": 16
        }
      ]
    },
    {
      "cell_type": "markdown",
      "metadata": {
        "id": "YGtRF8B5I4fP"
      },
      "source": [
        "## Exercice 4 : Expression bien parenthésée"
      ]
    },
    {
      "cell_type": "code",
      "metadata": {
        "id": "FLfsuOohI4fP"
      },
      "source": [
        "from pile import *\n",
        "def tester1(ch):\n",
        "    p = creer_pile()\n",
        "    for j in range(len(ch)):\n",
        "        if ch[j]=='(':\n",
        "            empiler(p, j)\n",
        "        elif ch[j]==')':\n",
        "            if est_vide(p):\n",
        "                return \") à l'indice {} n'est pas ouverte !\".format(j)\n",
        "            else:\n",
        "                i=depiler(p)\n",
        "                couple = (i, j)\n",
        "                print(\"Couple {} correct\".format(couple))\n",
        "    if est_vide(p):\n",
        "        return 'Parenthésage OK'\n",
        "    else:\n",
        "        return \"( à l'indice {} n'est pas refermée !\".format(sommet(p))"
      ],
      "execution_count": 17,
      "outputs": []
    },
    {
      "cell_type": "code",
      "metadata": {
        "colab": {
          "base_uri": "https://localhost:8080/",
          "height": 87
        },
        "id": "LXGh4q97I4fQ",
        "outputId": "5a6b225d-70ba-4dde-95a6-1f42f6516f52"
      },
      "source": [
        "tester1(\"2+(3+b)*(5+(a-4))\")"
      ],
      "execution_count": 18,
      "outputs": [
        {
          "output_type": "stream",
          "name": "stdout",
          "text": [
            "Couple (2, 6) correct\n",
            "Couple (11, 15) correct\n",
            "Couple (8, 16) correct\n"
          ]
        },
        {
          "output_type": "execute_result",
          "data": {
            "application/vnd.google.colaboratory.intrinsic+json": {
              "type": "string"
            },
            "text/plain": [
              "'Parenthésage OK'"
            ]
          },
          "metadata": {},
          "execution_count": 18
        }
      ]
    },
    {
      "cell_type": "code",
      "metadata": {
        "colab": {
          "base_uri": "https://localhost:8080/",
          "height": 52
        },
        "id": "2jA0_cVMI4fR",
        "outputId": "4d2f96ce-2adf-405a-fb73-ebb45c8b77d6"
      },
      "source": [
        "tester1(\"(a+8)*3)+4\")"
      ],
      "execution_count": 19,
      "outputs": [
        {
          "output_type": "stream",
          "name": "stdout",
          "text": [
            "Couple (0, 4) correct\n"
          ]
        },
        {
          "output_type": "execute_result",
          "data": {
            "application/vnd.google.colaboratory.intrinsic+json": {
              "type": "string"
            },
            "text/plain": [
              "\") à l'indice 7 n'est pas ouverte !\""
            ]
          },
          "metadata": {},
          "execution_count": 19
        }
      ]
    },
    {
      "cell_type": "code",
      "metadata": {
        "colab": {
          "base_uri": "https://localhost:8080/",
          "height": 52
        },
        "id": "ngdclW0WI4fS",
        "outputId": "e4c6628c-ce0e-4eef-af48-712ad4716ed8"
      },
      "source": [
        "tester1(\"(b+8/5)+(4\")"
      ],
      "execution_count": 20,
      "outputs": [
        {
          "output_type": "stream",
          "name": "stdout",
          "text": [
            "Couple (0, 6) correct\n"
          ]
        },
        {
          "output_type": "execute_result",
          "data": {
            "application/vnd.google.colaboratory.intrinsic+json": {
              "type": "string"
            },
            "text/plain": [
              "\"( à l'indice 8 n'est pas refermée !\""
            ]
          },
          "metadata": {},
          "execution_count": 20
        }
      ]
    },
    {
      "cell_type": "code",
      "metadata": {
        "id": "2OosvIRQI4fS"
      },
      "source": [
        ""
      ],
      "execution_count": null,
      "outputs": []
    }
  ]
}