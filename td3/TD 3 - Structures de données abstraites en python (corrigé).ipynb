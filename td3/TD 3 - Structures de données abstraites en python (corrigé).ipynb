{
 "cells": [
  {
   "cell_type": "markdown",
   "metadata": {},
   "source": [
    "# Première partie : Applications - Piles\n",
    "## Exercice 1 : Opérations élémentaires sur les piles"
   ]
  },
  {
   "cell_type": "code",
   "execution_count": 3,
   "metadata": {},
   "outputs": [
    {
     "name": "stdout",
     "output_type": "stream",
     "text": [
      "0\n",
      "saisir un nombre d'éléments : 4\n",
      "[0, 1, 2, 3]\n",
      "4\n",
      "[]\n"
     ]
    }
   ],
   "source": [
    "# %load pile.py\n",
    "def creer_pile():\n",
    "    '''\n",
    "    créér une pile\n",
    "    '''\n",
    "    return []\n",
    "def empiler(p,x):\n",
    "    '''\n",
    "    ajouter une élément à la pile\n",
    "    '''\n",
    "    p.append(x)\n",
    "def hauteur(p):\n",
    "    '''\n",
    "    Donner la taille de la pile\n",
    "    '''\n",
    "    return len(p)\n",
    "def est_vide(p):\n",
    "    '''\n",
    "    tester si la pile est vide ou non\n",
    "    '''\n",
    "    return hauteur(p) == 0\n",
    "def sommet(p):\n",
    "    '''\n",
    "    donner l'élément au sommet\n",
    "    '''\n",
    "    if est_vide(p):\n",
    "        print(\"La pile est vide!\")\n",
    "    else:\n",
    "        return p[-1]\n",
    "def depiler(p):\n",
    "    '''\n",
    "    si n'est pas vide, faire sortir le dernier émlément de la pile\n",
    "    '''\n",
    "    if est_vide(p):\n",
    "        print(\"La pile est vide!\")\n",
    "    else:\n",
    "        return p.pop()\n",
    "if __name__ == \"__main__\":\n",
    "    p = creer_pile()\n",
    "    print(hauteur(p))\n",
    "    N = int(input(\"saisir un nombre d'éléments : \"))\n",
    "    for i in range(N):\n",
    "        empiler(p, i)\n",
    "    print(p)\n",
    "    print(hauteur(p))\n",
    "    for i in range(hauteur(p)):\n",
    "        depiler(p)\n",
    "    print(p)"
   ]
  },
  {
   "cell_type": "markdown",
   "metadata": {},
   "source": [
    "## Exercice 2 : Manipulations simples de piles"
   ]
  },
  {
   "cell_type": "code",
   "execution_count": 4,
   "metadata": {},
   "outputs": [],
   "source": [
    "from pile import *\n",
    "#Q1/\n",
    "def Max_Min(P):\n",
    "    if not est_vide(P):\n",
    "        Max=Min=sommet(P)\n",
    "        posMax=posMin=hauteur(P)\n",
    "    while not est_vide(P):\n",
    "        s, h=sommet(P), hauteur(P)\n",
    "        if s>Max:\n",
    "            Max=s\n",
    "            posMax= h\n",
    "        elif s<Min:\n",
    "            Min=s\n",
    "            posMin= h\n",
    "        depiler(P)\n",
    "    return(Max,posMax),(Min,posMin)"
   ]
  },
  {
   "cell_type": "code",
   "execution_count": 5,
   "metadata": {},
   "outputs": [
    {
     "name": "stdout",
     "output_type": "stream",
     "text": [
      "[12, 43, -31, 0, 21, -11, 3, -19, 25, -29]\n"
     ]
    }
   ],
   "source": [
    "import random as rd\n",
    "L = [rd.randint(-50, 50) for _ in range(10)]\n",
    "P = creer_pile()\n",
    "for x in L:\n",
    "    empiler(P, x)\n",
    "print(P)"
   ]
  },
  {
   "cell_type": "code",
   "execution_count": 6,
   "metadata": {},
   "outputs": [
    {
     "data": {
      "text/plain": [
       "((43, 2), (-31, 3))"
      ]
     },
     "execution_count": 6,
     "metadata": {},
     "output_type": "execute_result"
    }
   ],
   "source": [
    "Max_Min(P)"
   ]
  },
  {
   "cell_type": "code",
   "execution_count": 7,
   "metadata": {},
   "outputs": [],
   "source": [
    "#Q2/\n",
    "def reverse(P):\n",
    "    P1=creer_pile()\n",
    "    while not est_vide(P):\n",
    "        empiler(P1, sommet(P))\n",
    "        depiler(P)\n",
    "    return P1"
   ]
  },
  {
   "cell_type": "code",
   "execution_count": 8,
   "metadata": {},
   "outputs": [
    {
     "name": "stdout",
     "output_type": "stream",
     "text": [
      "[12, 43, -31, 0, 21, -11, 3, -19, 25, -29]\n"
     ]
    }
   ],
   "source": [
    "P = creer_pile()\n",
    "for x in L:\n",
    "    empiler(P, x)\n",
    "print(P)"
   ]
  },
  {
   "cell_type": "code",
   "execution_count": 9,
   "metadata": {},
   "outputs": [
    {
     "data": {
      "text/plain": [
       "[-29, 25, -19, 3, -11, 21, 0, -31, 43, 12]"
      ]
     },
     "execution_count": 9,
     "metadata": {},
     "output_type": "execute_result"
    }
   ],
   "source": [
    "reverse(P)"
   ]
  },
  {
   "cell_type": "markdown",
   "metadata": {},
   "source": [
    "## Exercice 3 : Expression arithmétique postfixée"
   ]
  },
  {
   "cell_type": "markdown",
   "metadata": {},
   "source": [
    "### Une méthode \n",
    "application sur les tableaux et les chaînes de carctaires."
   ]
  },
  {
   "cell_type": "code",
   "execution_count": 10,
   "metadata": {},
   "outputs": [],
   "source": [
    "from pile import *\n",
    "def evalpostfixe1(expr):\n",
    "    p=creer_pile()\n",
    "    for k in expr:\n",
    "        print(k)\n",
    "        if k!='+' and k!='-' and k!= '*':\n",
    "            empiler(p,k)\n",
    "        else :\n",
    "            a=depiler(p)\n",
    "            b=depiler(p)\n",
    "            if k=='*':\n",
    "                x=int(b)*int(a)\n",
    "            if k=='+' :\n",
    "                x=int(b)+int(a)\n",
    "            if k=='-' :\n",
    "                x=int(b)-int(a)\n",
    "            empiler(p,x)\n",
    "            print(\"p=\",p,\"x=\",x)\n",
    "    x=depiler(p)\n",
    "    return(x)"
   ]
  },
  {
   "cell_type": "code",
   "execution_count": 11,
   "metadata": {},
   "outputs": [
    {
     "name": "stdout",
     "output_type": "stream",
     "text": [
      "2\n",
      "3\n",
      "4\n",
      "+\n",
      "p= ['2', 7] x= 7\n",
      "-\n",
      "p= [-5] x= -5\n",
      "5\n",
      "*\n",
      "p= [-25] x= -25\n"
     ]
    },
    {
     "data": {
      "text/plain": [
       "-25"
      ]
     },
     "execution_count": 11,
     "metadata": {},
     "output_type": "execute_result"
    }
   ],
   "source": [
    "evalpostfixe1(\"234+-5*\")"
   ]
  },
  {
   "cell_type": "code",
   "execution_count": 12,
   "metadata": {},
   "outputs": [
    {
     "name": "stdout",
     "output_type": "stream",
     "text": [
      "1\n",
      "2\n",
      "+\n",
      "p= [3] x= 3\n",
      "3\n",
      "*\n",
      "p= [9] x= 9\n"
     ]
    },
    {
     "data": {
      "text/plain": [
       "9"
      ]
     },
     "execution_count": 12,
     "metadata": {},
     "output_type": "execute_result"
    }
   ],
   "source": [
    "evalpostfixe1([1,2,'+',3,'*'])"
   ]
  },
  {
   "cell_type": "markdown",
   "metadata": {},
   "source": [
    "### Une deuxième méthode \n",
    "Application sur les expressions de type chaînes de caractères et en utilisant la fonction prédéfinie [`eval`](https://docs.python.org/fr/3/library/functions.html#eval)\n",
    "\n",
    "**Attention!**"
   ]
  },
  {
   "cell_type": "code",
   "execution_count": 13,
   "metadata": {},
   "outputs": [
    {
     "data": {
      "text/plain": [
       "16.0"
      ]
     },
     "execution_count": 13,
     "metadata": {},
     "output_type": "execute_result"
    }
   ],
   "source": [
    "a = 8\n",
    "eval(\"2.0 * a\") # 2.0 --> réel"
   ]
  },
  {
   "cell_type": "code",
   "execution_count": 14,
   "metadata": {},
   "outputs": [
    {
     "data": {
      "text/plain": [
       "16"
      ]
     },
     "execution_count": 14,
     "metadata": {},
     "output_type": "execute_result"
    }
   ],
   "source": [
    "eval(\"2 * a\") # 2*a --> entier"
   ]
  },
  {
   "cell_type": "code",
   "execution_count": 15,
   "metadata": {},
   "outputs": [
    {
     "data": {
      "text/plain": [
       "True"
      ]
     },
     "execution_count": 15,
     "metadata": {},
     "output_type": "execute_result"
    }
   ],
   "source": [
    "eval(\"2 * a > 0\") # 2 * a > 0 --> Bool"
   ]
  },
  {
   "cell_type": "code",
   "execution_count": 16,
   "metadata": {},
   "outputs": [],
   "source": [
    "def evalpostfixe2(ch):\n",
    "    p=creer_pile()\n",
    "    for k in ch:\n",
    "        if k.isdigit():\n",
    "            empiler(p,k)\n",
    "        else:\n",
    "            a=depiler(p)\n",
    "            b=depiler(p)\n",
    "            print(b+k+a) # concatination de b, k et a!\n",
    "            empiler(p,str(eval(b+k+a))) # l'elt à empiler doit être une chîne\n",
    "    return(depiler(p))"
   ]
  },
  {
   "cell_type": "code",
   "execution_count": 17,
   "metadata": {},
   "outputs": [
    {
     "name": "stdout",
     "output_type": "stream",
     "text": [
      "1+2\n",
      "4-6\n",
      "3*-2\n"
     ]
    },
    {
     "data": {
      "text/plain": [
       "'-6'"
      ]
     },
     "execution_count": 17,
     "metadata": {},
     "output_type": "execute_result"
    }
   ],
   "source": [
    "evalpostfixe2(\"12+46-*\")\n"
   ]
  },
  {
   "cell_type": "markdown",
   "metadata": {},
   "source": [
    "## Exercice 4 : Expression bien parenthésée"
   ]
  },
  {
   "cell_type": "code",
   "execution_count": 18,
   "metadata": {},
   "outputs": [],
   "source": [
    "from pile import *\n",
    "def tester1(ch):\n",
    "    p = creer_pile()\n",
    "    for j in range(len(ch)):\n",
    "        if ch[j]=='(':\n",
    "            empiler(p, j)\n",
    "        elif ch[j]==')':\n",
    "            if est_vide(p):\n",
    "                return \") à l'indice {} n'est pas ouverte !\".format(j)\n",
    "            else:\n",
    "                i=depiler(p)\n",
    "                couple = (i, j)\n",
    "                print(\"Couple {} correct\".format(couple))\n",
    "    if est_vide(p):\n",
    "        return 'Parenthésage OK'\n",
    "    else:\n",
    "        return \"( à l'indice {} n'est pas refermée !\".format(sommet(p))"
   ]
  },
  {
   "cell_type": "code",
   "execution_count": 19,
   "metadata": {},
   "outputs": [
    {
     "name": "stdout",
     "output_type": "stream",
     "text": [
      "Couple (2, 6) correct\n",
      "Couple (11, 15) correct\n",
      "Couple (8, 16) correct\n"
     ]
    },
    {
     "data": {
      "text/plain": [
       "'Parenthésage OK'"
      ]
     },
     "execution_count": 19,
     "metadata": {},
     "output_type": "execute_result"
    }
   ],
   "source": [
    "tester1(\"2+(3+b)*(5+(a-4))\")"
   ]
  },
  {
   "cell_type": "code",
   "execution_count": 20,
   "metadata": {},
   "outputs": [
    {
     "name": "stdout",
     "output_type": "stream",
     "text": [
      "Couple (0, 4) correct\n"
     ]
    },
    {
     "data": {
      "text/plain": [
       "\") à l'indice 7 n'est pas ouverte !\""
      ]
     },
     "execution_count": 20,
     "metadata": {},
     "output_type": "execute_result"
    }
   ],
   "source": [
    "tester1(\"(a+8)*3)+4\")"
   ]
  },
  {
   "cell_type": "code",
   "execution_count": 21,
   "metadata": {},
   "outputs": [
    {
     "name": "stdout",
     "output_type": "stream",
     "text": [
      "Couple (0, 6) correct\n"
     ]
    },
    {
     "data": {
      "text/plain": [
       "\"( à l'indice 8 n'est pas refermée !\""
      ]
     },
     "execution_count": 21,
     "metadata": {},
     "output_type": "execute_result"
    }
   ],
   "source": [
    "tester1(\"(b+8/5)+(4\")"
   ]
  },
  {
   "cell_type": "markdown",
   "metadata": {},
   "source": [
    "# Deuxième partie Applications - File\n",
    "## Exercice 5 : Opérations élémentaires sur les files"
   ]
  },
  {
   "cell_type": "code",
   "execution_count": 2,
   "metadata": {},
   "outputs": [],
   "source": [
    "# %load File.py\n",
    "def creer_file():\n",
    "    '''\n",
    "    créer une file (vide)\n",
    "    '''\n",
    "    return []\n",
    "\n",
    "def enfiler(f, elt):\n",
    "    '''\n",
    "    placer un élément en file d'attente\n",
    "    '''\n",
    "    f.append(elt)\n",
    "    \n",
    "def longueur(f):\n",
    "    '''\n",
    "    donne la longueur de la file\n",
    "    '''\n",
    "    return len(f)\n",
    "\n",
    "def est_vide(f):\n",
    "    '''\n",
    "    vérifier si la file est vide ou non\n",
    "    '''\n",
    "    return longueur(f) == 0\n",
    "def tete(f):\n",
    "    '''\n",
    "    retourne le premier élément entrée\n",
    "    '''\n",
    "    if not est_vide(f):\n",
    "        return f[0]\n",
    "    else:\n",
    "        print(\"la pile est vide\")\n",
    "\n",
    "def defiler(f):\n",
    "    '''\n",
    "    faire sortir le premier élément de la file\n",
    "    '''\n",
    "    if not est_vide(f):\n",
    "        return f.pop(0)\n",
    "    else :\n",
    "        print(\"la file est vide\")\n",
    "        "
   ]
  },
  {
   "cell_type": "markdown",
   "metadata": {},
   "source": [
    "## Exercice 6 : Ordonnancement de processus / Algorithme du tourniquet (Round Robin)"
   ]
  },
  {
   "cell_type": "code",
   "execution_count": 74,
   "metadata": {},
   "outputs": [
    {
     "data": {
      "image/jpeg": "[encoded data removed]",
      "text/html": [
       "\n",
       "        <iframe\n",
       "            width=\"800\"\n",
       "            height=\"300\"\n",
       "            src=\"https://www.youtube.com/embed/w9Uld56AsKE?start=88\"\n",
       "            frameborder=\"0\"\n",
       "            allowfullscreen\n",
       "        ></iframe>\n",
       "        "
      ],
      "text/plain": [
       "<IPython.lib.display.YouTubeVideo at 0x7f323e0ef6d0>"
      ]
     },
     "execution_count": 74,
     "metadata": {},
     "output_type": "execute_result"
    }
   ],
   "source": [
    "from IPython.display import YouTubeVideo\n",
    "YouTubeVideo('w9Uld56AsKE', width=800, height=300, start = 88)"
   ]
  },
  {
   "cell_type": "code",
   "execution_count": 75,
   "metadata": {},
   "outputs": [],
   "source": [
    "# Q1.\n",
    "from File import *\n",
    "import random as rd\n",
    "def creer_file_processus():\n",
    "    while True :\n",
    "        N=int(input(\"saisir nombre de processus : \"))\n",
    "        if N>0:\n",
    "            break\n",
    "    f=creer_file()\n",
    "    for i in range(1, N+1):\n",
    "        x=rd.randint(10, 100) # temps de proc en ms\n",
    "        enfiler(f,('P'+str(i),x))\n",
    "    return(f)"
   ]
  },
  {
   "cell_type": "code",
   "execution_count": 76,
   "metadata": {},
   "outputs": [
    {
     "name": "stdout",
     "output_type": "stream",
     "text": [
      "saisir nombre de processus : 7\n"
     ]
    },
    {
     "data": {
      "text/plain": [
       "[('P1', 14),\n",
       " ('P2', 30),\n",
       " ('P3', 58),\n",
       " ('P4', 92),\n",
       " ('P5', 98),\n",
       " ('P6', 38),\n",
       " ('P7', 91)]"
      ]
     },
     "execution_count": 76,
     "metadata": {},
     "output_type": "execute_result"
    }
   ],
   "source": [
    "creer_file_processus()"
   ]
  },
  {
   "cell_type": "code",
   "execution_count": 77,
   "metadata": {},
   "outputs": [],
   "source": [
    "def tourniquet():\n",
    "    f=creer_file_processus()\n",
    "    print(\"file initiale : \", f)\n",
    "    while True :\n",
    "        q=int(input(\"saisir le quantum alloué par processus : \"))\n",
    "        if q>0:\n",
    "            break\n",
    "    temps_attente = 0\n",
    "    while not(est_vide(f)):\n",
    "        t=tete(f)\n",
    "        if t[1]>q:\n",
    "            enfiler(f,(t[0],t[1]-q))\n",
    "            temps_attente+=q\n",
    "        else:\n",
    "            temps_attente+=t[1]\n",
    "        defiler(f)\n",
    "        print(f)\n",
    "    print(\"Temps total d'attete est {} ms\".format(temps_attente))"
   ]
  },
  {
   "cell_type": "code",
   "execution_count": 78,
   "metadata": {},
   "outputs": [
    {
     "name": "stdout",
     "output_type": "stream",
     "text": [
      "saisir nombre de processus : 8\n",
      "file initiale :  [('P1', 79), ('P2', 77), ('P3', 19), ('P4', 89), ('P5', 80), ('P6', 44), ('P7', 71), ('P8', 74)]\n",
      "saisir le quantum alloué par processus : 20\n",
      "[('P2', 77), ('P3', 19), ('P4', 89), ('P5', 80), ('P6', 44), ('P7', 71), ('P8', 74), ('P1', 59)]\n",
      "[('P3', 19), ('P4', 89), ('P5', 80), ('P6', 44), ('P7', 71), ('P8', 74), ('P1', 59), ('P2', 57)]\n",
      "[('P4', 89), ('P5', 80), ('P6', 44), ('P7', 71), ('P8', 74), ('P1', 59), ('P2', 57)]\n",
      "[('P5', 80), ('P6', 44), ('P7', 71), ('P8', 74), ('P1', 59), ('P2', 57), ('P4', 69)]\n",
      "[('P6', 44), ('P7', 71), ('P8', 74), ('P1', 59), ('P2', 57), ('P4', 69), ('P5', 60)]\n",
      "[('P7', 71), ('P8', 74), ('P1', 59), ('P2', 57), ('P4', 69), ('P5', 60), ('P6', 24)]\n",
      "[('P8', 74), ('P1', 59), ('P2', 57), ('P4', 69), ('P5', 60), ('P6', 24), ('P7', 51)]\n",
      "[('P1', 59), ('P2', 57), ('P4', 69), ('P5', 60), ('P6', 24), ('P7', 51), ('P8', 54)]\n",
      "[('P2', 57), ('P4', 69), ('P5', 60), ('P6', 24), ('P7', 51), ('P8', 54), ('P1', 39)]\n",
      "[('P4', 69), ('P5', 60), ('P6', 24), ('P7', 51), ('P8', 54), ('P1', 39), ('P2', 37)]\n",
      "[('P5', 60), ('P6', 24), ('P7', 51), ('P8', 54), ('P1', 39), ('P2', 37), ('P4', 49)]\n",
      "[('P6', 24), ('P7', 51), ('P8', 54), ('P1', 39), ('P2', 37), ('P4', 49), ('P5', 40)]\n",
      "[('P7', 51), ('P8', 54), ('P1', 39), ('P2', 37), ('P4', 49), ('P5', 40), ('P6', 4)]\n",
      "[('P8', 54), ('P1', 39), ('P2', 37), ('P4', 49), ('P5', 40), ('P6', 4), ('P7', 31)]\n",
      "[('P1', 39), ('P2', 37), ('P4', 49), ('P5', 40), ('P6', 4), ('P7', 31), ('P8', 34)]\n",
      "[('P2', 37), ('P4', 49), ('P5', 40), ('P6', 4), ('P7', 31), ('P8', 34), ('P1', 19)]\n",
      "[('P4', 49), ('P5', 40), ('P6', 4), ('P7', 31), ('P8', 34), ('P1', 19), ('P2', 17)]\n",
      "[('P5', 40), ('P6', 4), ('P7', 31), ('P8', 34), ('P1', 19), ('P2', 17), ('P4', 29)]\n",
      "[('P6', 4), ('P7', 31), ('P8', 34), ('P1', 19), ('P2', 17), ('P4', 29), ('P5', 20)]\n",
      "[('P7', 31), ('P8', 34), ('P1', 19), ('P2', 17), ('P4', 29), ('P5', 20)]\n",
      "[('P8', 34), ('P1', 19), ('P2', 17), ('P4', 29), ('P5', 20), ('P7', 11)]\n",
      "[('P1', 19), ('P2', 17), ('P4', 29), ('P5', 20), ('P7', 11), ('P8', 14)]\n",
      "[('P2', 17), ('P4', 29), ('P5', 20), ('P7', 11), ('P8', 14)]\n",
      "[('P4', 29), ('P5', 20), ('P7', 11), ('P8', 14)]\n",
      "[('P5', 20), ('P7', 11), ('P8', 14), ('P4', 9)]\n",
      "[('P7', 11), ('P8', 14), ('P4', 9)]\n",
      "[('P8', 14), ('P4', 9)]\n",
      "[('P4', 9)]\n",
      "[]\n",
      "Temps total d'attete est 533 ms\n"
     ]
    }
   ],
   "source": [
    "tourniquet()"
   ]
  },
  {
   "cell_type": "code",
   "execution_count": null,
   "metadata": {},
   "outputs": [],
   "source": []
  }
 ],
 "metadata": {
  "kernelspec": {
   "display_name": "Python 3",
   "language": "python",
   "name": "python3"
  },
  "language_info": {
   "codemirror_mode": {
    "name": "ipython",
    "version": 3
   },
   "file_extension": ".py",
   "mimetype": "text/x-python",
   "name": "python",
   "nbconvert_exporter": "python",
   "pygments_lexer": "ipython3",
   "version": "3.7.6"
  }
 },
 "nbformat": 4,
 "nbformat_minor": 4
}
