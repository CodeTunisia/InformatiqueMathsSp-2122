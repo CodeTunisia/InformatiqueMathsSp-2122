{
 "cells": [
  {
   "cell_type": "markdown",
   "metadata": {},
   "source": [
    "# Première partie : Applications - Piles\n",
    "## Exercice 1 : Opérations élémentaires sur les piles"
   ]
  },
  {
   "cell_type": "code",
   "execution_count": 3,
   "metadata": {},
   "outputs": [
    {
     "name": "stdout",
     "output_type": "stream",
     "text": [
      "0\n",
      "saisir un nombre d'éléments : 4\n",
      "[0, 1, 2, 3]\n",
      "4\n",
      "[]\n"
     ]
    }
   ],
   "source": [
    "# %load pile.py\n",
    "def creer_pile():\n",
    "    '''\n",
    "    créér une pile\n",
    "    '''\n",
    "    return []\n",
    "def empiler(p,x):\n",
    "    '''\n",
    "    ajouter une élément à la pile\n",
    "    '''\n",
    "    return p.append(x)\n",
    "def hauteur(p):\n",
    "    '''\n",
    "    Donner la taille de la pile\n",
    "    '''\n",
    "    return len(p)\n",
    "def est_vide(p):\n",
    "    '''\n",
    "    tester si la pile est vide ou non\n",
    "    '''\n",
    "    return hauteur(p) == 0\n",
    "def sommet(p):\n",
    "    '''\n",
    "    donner l'élément au sommet\n",
    "    '''\n",
    "    return p[-1]\n",
    "def depiler(p):\n",
    "    '''\n",
    "    si n'est pas vide, faire sortir le dernier émlément de la pile\n",
    "    '''\n",
    "    if est_vide(p):\n",
    "        print(\"La pile est vide!\")\n",
    "    else:\n",
    "        return p.pop()\n",
    "if __name__ == \"__main__\":\n",
    "    p = creer_pile()\n",
    "    print(hauteur(p))\n",
    "    N = int(input(\"saisir un nombre d'éléments : \"))\n",
    "    for i in range(N):\n",
    "        empiler(p, i)\n",
    "    print(p)\n",
    "    print(hauteur(p))\n",
    "    for i in range(hauteur(p)):\n",
    "        depiler(p)\n",
    "    print(p)"
   ]
  },
  {
   "cell_type": "markdown",
   "metadata": {},
   "source": [
    "## Exercice 2 : Manipulations simples de piles"
   ]
  },
  {
   "cell_type": "code",
   "execution_count": 4,
   "metadata": {},
   "outputs": [],
   "source": [
    "from pile import *\n",
    "#Q1/\n",
    "def Max_Min(P):\n",
    "    if not est_vide(P):\n",
    "        Max=Min=sommet(P)\n",
    "        posMax=posMin=hauteur(P)\n",
    "    while not est_vide(P):\n",
    "        s, h=sommet(P), hauteur(P)\n",
    "        if s>Max:\n",
    "            Max=s\n",
    "            posMax= h\n",
    "        elif s<Min:\n",
    "            Min=s\n",
    "            posMin= h\n",
    "        depiler(P)\n",
    "    return(Max,posMax),(Min,posMin)"
   ]
  },
  {
   "cell_type": "code",
   "execution_count": 5,
   "metadata": {},
   "outputs": [
    {
     "name": "stdout",
     "output_type": "stream",
     "text": [
      "[12, 43, -31, 0, 21, -11, 3, -19, 25, -29]\n"
     ]
    }
   ],
   "source": [
    "import random as rd\n",
    "L = [rd.randint(-50, 50) for _ in range(10)]\n",
    "P = creer_pile()\n",
    "for x in L:\n",
    "    empiler(P, x)\n",
    "print(P)"
   ]
  },
  {
   "cell_type": "code",
   "execution_count": 6,
   "metadata": {},
   "outputs": [
    {
     "data": {
      "text/plain": [
       "((43, 2), (-31, 3))"
      ]
     },
     "execution_count": 6,
     "metadata": {},
     "output_type": "execute_result"
    }
   ],
   "source": [
    "Max_Min(P)"
   ]
  },
  {
   "cell_type": "code",
   "execution_count": 7,
   "metadata": {},
   "outputs": [],
   "source": [
    "#Q2/\n",
    "def reverse(P):\n",
    "    P1=creer_pile()\n",
    "    while not est_vide(P):\n",
    "        empiler(P1, sommet(P))\n",
    "        depiler(P)\n",
    "    return P1"
   ]
  },
  {
   "cell_type": "code",
   "execution_count": 8,
   "metadata": {},
   "outputs": [
    {
     "name": "stdout",
     "output_type": "stream",
     "text": [
      "[12, 43, -31, 0, 21, -11, 3, -19, 25, -29]\n"
     ]
    }
   ],
   "source": [
    "P = creer_pile()\n",
    "for x in L:\n",
    "    empiler(P, x)\n",
    "print(P)"
   ]
  },
  {
   "cell_type": "code",
   "execution_count": 9,
   "metadata": {},
   "outputs": [
    {
     "data": {
      "text/plain": [
       "[-29, 25, -19, 3, -11, 21, 0, -31, 43, 12]"
      ]
     },
     "execution_count": 9,
     "metadata": {},
     "output_type": "execute_result"
    }
   ],
   "source": [
    "reverse(P)"
   ]
  },
  {
   "cell_type": "markdown",
   "metadata": {},
   "source": [
    "## Exercice 3 : Expression arithmétique postfixée"
   ]
  },
  {
   "cell_type": "markdown",
   "metadata": {},
   "source": [
    "### Une méthode \n",
    "application sur les tableaux et les chaînes de carctaires."
   ]
  },
  {
   "cell_type": "code",
   "execution_count": 10,
   "metadata": {},
   "outputs": [],
   "source": [
    "from pile import *\n",
    "def evalpostfixe1(expr):\n",
    "    p=creer_pile()\n",
    "    for k in expr:\n",
    "        print(k)\n",
    "        if k!='+' and k!='-' and k!= '*':\n",
    "            empiler(p,k)\n",
    "        else :\n",
    "            a=depiler(p)\n",
    "            b=depiler(p)\n",
    "            if k=='*':\n",
    "                x=int(b)*int(a)\n",
    "            if k=='+' :\n",
    "                x=int(b)+int(a)\n",
    "            if k=='-' :\n",
    "                x=int(b)-int(a)\n",
    "            empiler(p,x)\n",
    "            print(\"p=\",p,\"x=\",x)\n",
    "    x=depiler(p)\n",
    "    return(x)"
   ]
  },
  {
   "cell_type": "code",
   "execution_count": 11,
   "metadata": {},
   "outputs": [
    {
     "name": "stdout",
     "output_type": "stream",
     "text": [
      "2\n",
      "3\n",
      "4\n",
      "+\n",
      "p= ['2', 7] x= 7\n",
      "-\n",
      "p= [-5] x= -5\n",
      "5\n",
      "*\n",
      "p= [-25] x= -25\n"
     ]
    },
    {
     "data": {
      "text/plain": [
       "-25"
      ]
     },
     "execution_count": 11,
     "metadata": {},
     "output_type": "execute_result"
    }
   ],
   "source": [
    "evalpostfixe1(\"234+-5*\")"
   ]
  },
  {
   "cell_type": "code",
   "execution_count": 12,
   "metadata": {},
   "outputs": [
    {
     "name": "stdout",
     "output_type": "stream",
     "text": [
      "1\n",
      "2\n",
      "+\n",
      "p= [3] x= 3\n",
      "3\n",
      "*\n",
      "p= [9] x= 9\n"
     ]
    },
    {
     "data": {
      "text/plain": [
       "9"
      ]
     },
     "execution_count": 12,
     "metadata": {},
     "output_type": "execute_result"
    }
   ],
   "source": [
    "evalpostfixe1([1,2,'+',3,'*'])"
   ]
  },
  {
   "cell_type": "markdown",
   "metadata": {},
   "source": [
    "### Une deuxième méthode \n",
    "Application sur les expressions de type chaînes de caractères et en utilisant la fonction prédéfinie [`eval`](https://docs.python.org/fr/3/library/functions.html#eval)\n",
    "\n",
    "**Attention!**"
   ]
  },
  {
   "cell_type": "code",
   "execution_count": 13,
   "metadata": {},
   "outputs": [
    {
     "data": {
      "text/plain": [
       "16.0"
      ]
     },
     "execution_count": 13,
     "metadata": {},
     "output_type": "execute_result"
    }
   ],
   "source": [
    "a = 8\n",
    "eval(\"2.0 * a\") # 2.0 --> réel"
   ]
  },
  {
   "cell_type": "code",
   "execution_count": 14,
   "metadata": {},
   "outputs": [
    {
     "data": {
      "text/plain": [
       "16"
      ]
     },
     "execution_count": 14,
     "metadata": {},
     "output_type": "execute_result"
    }
   ],
   "source": [
    "eval(\"2 * a\") # 2*a --> entier"
   ]
  },
  {
   "cell_type": "code",
   "execution_count": 15,
   "metadata": {},
   "outputs": [
    {
     "data": {
      "text/plain": [
       "True"
      ]
     },
     "execution_count": 15,
     "metadata": {},
     "output_type": "execute_result"
    }
   ],
   "source": [
    "eval(\"2 * a > 0\") # 2 * a > 0 --> Bool"
   ]
  },
  {
   "cell_type": "code",
   "execution_count": 16,
   "metadata": {},
   "outputs": [],
   "source": [
    "def evalpostfixe2(ch):\n",
    "    p=creer_pile()\n",
    "    for k in ch:\n",
    "        if k.isdigit():\n",
    "            empiler(p,k)\n",
    "        else:\n",
    "            a=depiler(p)\n",
    "            b=depiler(p)\n",
    "            print(b+k+a) # concatination de b, k et a!\n",
    "            empiler(p,str(eval(b+k+a))) # l'elt à empiler doit être une chîne\n",
    "    return(depiler(p))"
   ]
  },
  {
   "cell_type": "code",
   "execution_count": 17,
   "metadata": {},
   "outputs": [
    {
     "name": "stdout",
     "output_type": "stream",
     "text": [
      "1+2\n",
      "4-6\n",
      "3*-2\n"
     ]
    },
    {
     "data": {
      "text/plain": [
       "'-6'"
      ]
     },
     "execution_count": 17,
     "metadata": {},
     "output_type": "execute_result"
    }
   ],
   "source": [
    "evalpostfixe2(\"12+46-*\")\n"
   ]
  },
  {
   "cell_type": "markdown",
   "metadata": {},
   "source": [
    "## Exercice 4 : Expression bien parenthésée"
   ]
  },
  {
   "cell_type": "code",
   "execution_count": 18,
   "metadata": {},
   "outputs": [],
   "source": [
    "from pile import *\n",
    "def tester1(ch):\n",
    "    p = creer_pile()\n",
    "    for j in range(len(ch)):\n",
    "        if ch[j]=='(':\n",
    "            empiler(p, j)\n",
    "        elif ch[j]==')':\n",
    "            if est_vide(p):\n",
    "                return \") à l'indice {} n'est pas ouverte !\".format(j)\n",
    "            else:\n",
    "                i=depiler(p)\n",
    "                couple = (i, j)\n",
    "                print(\"Couple {} correct\".format(couple))\n",
    "    if est_vide(p):\n",
    "        return 'Parenthésage OK'\n",
    "    else:\n",
    "        return \"( à l'indice {} n'est pas refermée !\".format(sommet(p))"
   ]
  },
  {
   "cell_type": "code",
   "execution_count": 19,
   "metadata": {},
   "outputs": [
    {
     "name": "stdout",
     "output_type": "stream",
     "text": [
      "Couple (2, 6) correct\n",
      "Couple (11, 15) correct\n",
      "Couple (8, 16) correct\n"
     ]
    },
    {
     "data": {
      "text/plain": [
       "'Parenthésage OK'"
      ]
     },
     "execution_count": 19,
     "metadata": {},
     "output_type": "execute_result"
    }
   ],
   "source": [
    "tester1(\"2+(3+b)*(5+(a-4))\")"
   ]
  },
  {
   "cell_type": "code",
   "execution_count": 20,
   "metadata": {},
   "outputs": [
    {
     "name": "stdout",
     "output_type": "stream",
     "text": [
      "Couple (0, 4) correct\n"
     ]
    },
    {
     "data": {
      "text/plain": [
       "\") à l'indice 7 n'est pas ouverte !\""
      ]
     },
     "execution_count": 20,
     "metadata": {},
     "output_type": "execute_result"
    }
   ],
   "source": [
    "tester1(\"(a+8)*3)+4\")"
   ]
  },
  {
   "cell_type": "code",
   "execution_count": 21,
   "metadata": {},
   "outputs": [
    {
     "name": "stdout",
     "output_type": "stream",
     "text": [
      "Couple (0, 6) correct\n"
     ]
    },
    {
     "data": {
      "text/plain": [
       "\"( à l'indice 8 n'est pas refermée !\""
      ]
     },
     "execution_count": 21,
     "metadata": {},
     "output_type": "execute_result"
    }
   ],
   "source": [
    "tester1(\"(b+8/5)+(4\")"
   ]
  },
  {
   "cell_type": "code",
   "execution_count": null,
   "metadata": {},
   "outputs": [],
   "source": []
  }
 ],
 "metadata": {
  "kernelspec": {
   "display_name": "Python 3",
   "language": "python",
   "name": "python3"
  }
 },
 "nbformat": 4,
 "nbformat_minor": 4
}
