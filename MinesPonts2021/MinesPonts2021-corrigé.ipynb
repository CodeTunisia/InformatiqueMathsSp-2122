{
  "cells": [
    {
      "cell_type": "markdown",
      "metadata": {
        "id": "view-in-github",
        "colab_type": "text"
      },
      "source": [
        "<a href=\"https://colab.research.google.com/github/CodeTunisia/InformatiqueMathsSpe-2122/blob/main/MinesPonts2021/MinesPonts2021-corrig%C3%A9.ipynb\" target=\"_parent\"><img src=\"https://colab.research.google.com/assets/colab-badge.svg\" alt=\"Open In Colab\"/></a>"
      ]
    },
    {
      "cell_type": "code",
      "source": [
        "# charger le fichier .csv\n",
        "!wget https://raw.githubusercontent.com/CodeTunisia/InformatiqueMathsSpe-2122/main/MinesPonts2021/suivi_rando.csv"
      ],
      "metadata": {
        "id": "U9qEqlZJ3NKF",
        "outputId": "78d2fce6-cec0-4d6c-a8ef-5d12c2b56913",
        "colab": {
          "base_uri": "https://localhost:8080/"
        }
      },
      "id": "U9qEqlZJ3NKF",
      "execution_count": 15,
      "outputs": [
        {
          "output_type": "stream",
          "name": "stdout",
          "text": [
            "--2022-03-05 16:20:10--  https://raw.githubusercontent.com/CodeTunisia/InformatiqueMathsSpe-2122/main/MinesPonts2021/suivi_rando.csv\n",
            "Resolving raw.githubusercontent.com (raw.githubusercontent.com)... 185.199.108.133, 185.199.109.133, 185.199.110.133, ...\n",
            "Connecting to raw.githubusercontent.com (raw.githubusercontent.com)|185.199.108.133|:443... connected.\n",
            "HTTP request sent, awaiting response... 200 OK\n",
            "Length: 311 [text/plain]\n",
            "Saving to: ‘suivi_rando.csv’\n",
            "\n",
            "\rsuivi_rando.csv       0%[                    ]       0  --.-KB/s               \rsuivi_rando.csv     100%[===================>]     311  --.-KB/s    in 0s      \n",
            "\n",
            "2022-03-05 16:20:11 (10.3 MB/s) - ‘suivi_rando.csv’ saved [311/311]\n",
            "\n"
          ]
        }
      ]
    },
    {
      "cell_type": "markdown",
      "id": "81fcff2d-4efa-46ca-ad5c-c9622ef5a19c",
      "metadata": {
        "id": "81fcff2d-4efa-46ca-ad5c-c9622ef5a19c"
      },
      "source": [
        "# Partie I. Randonnée"
      ]
    },
    {
      "cell_type": "markdown",
      "id": "bd954049-1535-45ec-97fd-1ec2f8321ad2",
      "metadata": {
        "id": "bd954049-1535-45ec-97fd-1ec2f8321ad2"
      },
      "source": [
        "* **Q1/** Nombre de participants nés entre 1999 et 2003 inclus\n",
        "```sql\n",
        "SELECT COUNT(*) FROM Participant\n",
        "WHERE ne>= 1998 AND ne<= 2004\n",
        "```\n",
        "* **Q2/** La durée moyenne des randonnées pour chaque niveau de difficulté.\n",
        "```sql\n",
        "SELECT diff,AVG(duree) FROM Rando\n",
        "GROUP BY diff\n",
        "```\n",
        "* **Q3/** Le nom des participants pour lesquels la randonnée n°42 est trop difficile.\n",
        " * avec un produit cartésien :\n",
        " ```sql\n",
        "    SELECT pnom FROM Participant,Rando\n",
        "    WHERE rid = 42 AND diff_max < diff\n",
        " ```\n",
        "  * avec une sous-requête :\n",
        "  ```sql\n",
        "    SELECT pnom FROM Participant\n",
        "    WHERE diff_max < (SELECT diff FROM Rando\n",
        "    WHERE rid=42)\n",
        "   ```\n",
        "* **Q4/** Les clés primaires des randonnées qui ont un ou des homonymes (nom identique et clé primaire distincte), sans redondance.\n",
        "```sql\n",
        "SELECT DISTINCT R1.rid FROM Rando AS R1\n",
        "JOIN Rando AS R2\n",
        "WHERE R1.rnom=R2.rnom\n",
        "AND R1.rid <> R2.rid\n",
        "```"
      ]
    },
    {
      "cell_type": "markdown",
      "id": "fe2b5c18-c421-4922-b67e-cb7e24bdd3a4",
      "metadata": {
        "id": "fe2b5c18-c421-4922-b67e-cb7e24bdd3a4"
      },
      "source": [
        "* **Q5/** Importation du ﬁchier csv :"
      ]
    },
    {
      "cell_type": "code",
      "execution_count": 27,
      "id": "48d97f12-8242-4845-aa55-193b6c3f0f2c",
      "metadata": {
        "id": "48d97f12-8242-4845-aa55-193b6c3f0f2c"
      },
      "outputs": [],
      "source": [
        "def importe_rando(nom_fichier) :\n",
        "    \"\"\" nom_fichier est une chaîne de caractères\n",
        "    La fonction renvoie une liste de listes contenant [lat,long,altitude,temps]\"\"\"\n",
        "    f=open(nom_fichier,\"r\")\n",
        "    f.readline() # on passe la première ligne (on la lit sans la stocker)\n",
        "    lignes=f.readlines()\n",
        "    f.close()\n",
        "    coords = []\n",
        "    for ligne in lignes :\n",
        "        liste_valeurs=ligne.split(\",\")  # on reprend chaque ligne que l'on sépare\n",
        "        liste_valeurs=[float(val) for val in liste_valeurs]\n",
        "          # on écrase/remplace la ligne par la liste des valeurs, \\n a été enlevé par float()\n",
        "        coords.append(liste_valeurs)\n",
        "    return coords"
      ]
    },
    {
      "cell_type": "code",
      "execution_count": 28,
      "id": "4ea0e92b-5fd0-449e-ac8d-f9026d57f4fe",
      "metadata": {
        "id": "4ea0e92b-5fd0-449e-ac8d-f9026d57f4fe",
        "outputId": "d71ea709-fb8c-4eee-92c6-f31d5562ad22",
        "colab": {
          "base_uri": "https://localhost:8080/"
        }
      },
      "outputs": [
        {
          "output_type": "stream",
          "name": "stdout",
          "text": [
            "[[45.461516, 6.44461, 1315.221, 1597496965.0], [45.461448, 6.444426, 1315.702, 1597496980.0], [45.461383, 6.444239, 1316.182, 1597496995.0], [45.461641, 6.444035, 1316.663, 1597497010.0], [45.461534, 6.443879, 1317.144, 1597497025.0], [45.461595, 6.4437, 1317.634, 1597497040.0], [45.461562, 6.443521, 1318.105, 1597497055.0]]\n"
          ]
        }
      ],
      "source": [
        "coords=importe_rando(\"suivi_rando.csv\")\n",
        "print(coords)"
      ]
    },
    {
      "cell_type": "markdown",
      "id": "3e5bb576-a2ed-474b-b864-10bb483fea43",
      "metadata": {
        "id": "3e5bb576-a2ed-474b-b864-10bb483fea43"
      },
      "source": [
        "* **Q6** Une recherche de maximum renvoie [lat, lon]"
      ]
    },
    {
      "cell_type": "code",
      "execution_count": 29,
      "id": "4c9a975c-f1c3-47ae-8467-4dbbdf05a0f6",
      "metadata": {
        "id": "4c9a975c-f1c3-47ae-8467-4dbbdf05a0f6"
      },
      "outputs": [],
      "source": [
        "def plus_haut(coords) :\n",
        "    \"\"\" coords est une liste de listes de flottants qui sont les caractéristiques d'un point\n",
        "    La fonction lat et long du premier point le plus haut (s'il y en a plusieurs elle renvoie le premier lu)\"\"\"\n",
        "    # A compléter\n",
        "    maxi=coords[0][3] # on initialise avec la première altitude\n",
        "    coordonnees=coords[0][0:2]\n",
        "    for i in range(len(coords)) :\n",
        "        if coords[i][3]>maxi :\n",
        "            maxi=coords[i][3]\n",
        "            coordonnees=coords[i][0:2]\n",
        "    return coordonnees"
      ]
    },
    {
      "cell_type": "markdown",
      "id": "9dffca8c-d183-4ced-95c5-3b66be80ee54",
      "metadata": {
        "id": "9dffca8c-d183-4ced-95c5-3b66be80ee54"
      },
      "source": [
        "* **Q7/** Calcul des dénivelés positifs et négatifs de la rondonnée"
      ]
    },
    {
      "cell_type": "code",
      "execution_count": 30,
      "id": "e35c3a1c-a2e2-4a0d-9971-aa572d3c2ae1",
      "metadata": {
        "id": "e35c3a1c-a2e2-4a0d-9971-aa572d3c2ae1"
      },
      "outputs": [],
      "source": [
        "def deniveles(coords) :\n",
        "    \"\"\" coords est une liste de listes de flottants qui sont les caractéristiques d'un point\n",
        "    la fonciton renvoie les dénivelés cumulés positifs et négatifs\"\"\"\n",
        "    # A compléter\n",
        "    denivPos=0\n",
        "    denivNeg=0\n",
        "    for i in range(len(coords)-1) :\n",
        "        deniv=coords[i+1][2]-coords[i][2]  # dénivelé entre deux points consécutifs\n",
        "        if deniv>0 :\n",
        "            denivPos+=deniv\n",
        "        else :\n",
        "            denivNeg+=deniv\n",
        "    return [denivPos,denivNeg]    "
      ]
    },
    {
      "cell_type": "markdown",
      "id": "cf3cc872-465b-4705-94f8-63aa102f99db",
      "metadata": {
        "id": "cf3cc872-465b-4705-94f8-63aa102f99db"
      },
      "source": [
        "* **Q8/** distance entre deux points"
      ]
    },
    {
      "cell_type": "code",
      "execution_count": 31,
      "id": "30566b59-bf5b-4470-8a5e-4c161c991289",
      "metadata": {
        "id": "30566b59-bf5b-4470-8a5e-4c161c991289"
      },
      "outputs": [],
      "source": [
        "from math import asin,sin,cos,radians,sqrt"
      ]
    },
    {
      "cell_type": "code",
      "execution_count": 32,
      "id": "106e15a5-18bb-48c3-b79a-b0c9cb40e0cb",
      "metadata": {
        "id": "106e15a5-18bb-48c3-b79a-b0c9cb40e0cb"
      },
      "outputs": [],
      "source": [
        "RT=6371 # rayon moyen volumétrique de la Terre en km"
      ]
    },
    {
      "cell_type": "code",
      "execution_count": 33,
      "id": "81a49fde-a893-49bf-af1a-03bfb45838f3",
      "metadata": {
        "id": "81a49fde-a893-49bf-af1a-03bfb45838f3"
      },
      "outputs": [],
      "source": [
        "def distance(c1,c2) :\n",
        "    \"\"\" c1 et c2 sont des données de points\n",
        "    La fonction renvoie la distance entre ces points en tenant compte de la courbure\n",
        "    de la Terre\"\"\"\n",
        "    r=(c1[2]+c2[2])/2+ RT*1e3\n",
        "    p1,p2,l1,l2=radians(c1[0]),radians(c2[0]),radians(c1[1]),radians(c2[1])\n",
        "    A=(sin((p2-p1)/2))**2\n",
        "    B=cos(p1)*cos(p2)*(sin((l2-l1)/2))**2\n",
        "    d = 2*r*asin(sqrt(A+B)) # formule de haversine\n",
        "    dist = sqrt(d**2+(c2[2]-c1[2])**2) # théorème de Pythagore\n",
        "    return dist\n"
      ]
    },
    {
      "cell_type": "code",
      "execution_count": 34,
      "id": "60b545da-2eec-456b-b52e-50aceb915d93",
      "metadata": {
        "id": "60b545da-2eec-456b-b52e-50aceb915d93",
        "outputId": "58daaefd-e5ec-492b-e4a9-d899237bb31c",
        "colab": {
          "base_uri": "https://localhost:8080/"
        }
      },
      "outputs": [
        {
          "output_type": "stream",
          "name": "stdout",
          "text": [
            "premier intervalle 16.230964254992816 m\n"
          ]
        }
      ],
      "source": [
        "print(\"premier intervalle\", distance(coords[0],coords[1]),\"m\")"
      ]
    },
    {
      "cell_type": "markdown",
      "id": "49cf8fb3-a6c3-4b98-b12b-a9b5ba4dc19b",
      "metadata": {
        "id": "49cf8fb3-a6c3-4b98-b12b-a9b5ba4dc19b"
      },
      "source": [
        "* **Q9/** distance totale de la randonnée"
      ]
    },
    {
      "cell_type": "code",
      "execution_count": 35,
      "id": "0039cb9f-685f-4cc5-bd23-7ef9f890175a",
      "metadata": {
        "id": "0039cb9f-685f-4cc5-bd23-7ef9f890175a"
      },
      "outputs": [],
      "source": [
        "def distance_totale(coords) :\n",
        "    \"\"\" coords est une liste de listes de flottant qui sont les caractéristiques de points\n",
        "    La fonction renvoie la distance du parcours associé à coords\"\"\"\n",
        "    # A compléter\n",
        "    dist=0\n",
        "    for i in range(len(coords)-1) :\n",
        "        dist+=distance(coords[i],coords[i+1])\n",
        "    return dist"
      ]
    },
    {
      "cell_type": "code",
      "execution_count": 36,
      "id": "cdee0c60-e49e-46c5-a602-7e8b479042a2",
      "metadata": {
        "id": "cdee0c60-e49e-46c5-a602-7e8b479042a2",
        "outputId": "f260bee4-c0ff-4bd6-80ec-760f461b9c22",
        "colab": {
          "base_uri": "https://localhost:8080/"
        }
      },
      "outputs": [
        {
          "output_type": "stream",
          "name": "stdout",
          "text": [
            "distance parcourue 112.33798223373815 m\n"
          ]
        }
      ],
      "source": [
        "print(\"distance parcourue\", distance_totale(coords),\"m\")\n"
      ]
    },
    {
      "cell_type": "markdown",
      "id": "d15f6f98-ce7b-466a-bcde-ca82fb4d0e72",
      "metadata": {
        "id": "d15f6f98-ce7b-466a-bcde-ca82fb4d0e72"
      },
      "source": [
        "# Partie II. Mouvement brownien d'une petite particule"
      ]
    },
    {
      "cell_type": "code",
      "execution_count": 37,
      "id": "dcc4d346-42a4-4e18-b3e3-b22a9c75575f",
      "metadata": {
        "id": "dcc4d346-42a4-4e18-b3e3-b22a9c75575f"
      },
      "outputs": [],
      "source": [
        "from math import pi  # on a déjà importé cos et sin\n",
        "from random import uniform,gauss\n",
        "# paramètres physiques\n",
        "MU=0\n",
        "SIGMA=1E-8\n",
        "M=1E-6\n",
        "ALPHA=1E-5\n",
        "# vérification des hypothèses sur les paramètres\n",
        "assert MU>=0 and SIGMA>0 and M>0 and ALPHA>0"
      ]
    },
    {
      "cell_type": "markdown",
      "id": "f6dedf9b-7170-412d-8249-96c6831756e5",
      "metadata": {
        "id": "f6dedf9b-7170-412d-8249-96c6831756e5"
      },
      "source": [
        "* **Q10/** multiplication-addition vectorielle"
      ]
    },
    {
      "cell_type": "code",
      "execution_count": 38,
      "id": "047814f7-9be0-4490-98b7-1c5e45fb4e65",
      "metadata": {
        "id": "047814f7-9be0-4490-98b7-1c5e45fb4e65"
      },
      "outputs": [],
      "source": [
        "def vma(v1,a,v2) :\n",
        "    \"\"\" v1 et v2 sont des listes de 4 flottants associés à des vecteurs, a est un flottant\n",
        "    La fonction renvoie v1+a*v2\"\"\"\n",
        "    assert len(v1)==len(v2)\n",
        "    res=[]\n",
        "    for i in range(len(v1)) :\n",
        "        res.append(v1[i]+a*v2[i])\n",
        "    return res"
      ]
    },
    {
      "cell_type": "markdown",
      "id": "03ed8f8e-c9c4-4a1c-ae9a-ff16c2c71dbc",
      "metadata": {
        "id": "03ed8f8e-c9c4-4a1c-ae9a-ff16c2c71dbc"
      },
      "source": [
        "* **Q11/** Projection de l'équation du mouvement sur (ox) :\n",
        "$$\\ddot{x}= -\\dfrac{\\alpha \\dot{x}}{m}+ \\dfrac{f_{B_x}}{m}$$\n",
        "de même pour la projection sur (oy)\n",
        "\n",
        "dérivée du vecteur d'état :"
      ]
    },
    {
      "cell_type": "code",
      "execution_count": 39,
      "id": "f3ecc6d3-7a04-4b3c-8965-4fe99c1f80fd",
      "metadata": {
        "id": "f3ecc6d3-7a04-4b3c-8965-4fe99c1f80fd"
      },
      "outputs": [],
      "source": [
        "def derive(E) :\n",
        "    \"\"\" E est une liste de 4 flottant (un vecteur d'état)\n",
        "    La fonction renvoi la dérivée de E en utilisant l'edo donnée dans l'énoncé\"\"\"\n",
        "    x,y,xp,yp = E\n",
        "    theta = uniform(0,2*pi)\n",
        "    norme = abs(gauss(MU,SIGMA))\n",
        "    fBx = cos(theta)*norme # on projette fB sur (Ox)\n",
        "    fBy = sin(theta)*norme # on projette fB sur (Oy)\n",
        "    xpp = (-ALPHA*xp + fBx)/M\n",
        "    ypp = (-ALPHA*yp + fBy)/M\n",
        "    return [xp,yp,xpp,ypp]"
      ]
    },
    {
      "cell_type": "markdown",
      "id": "2eb7a0d9-6327-4e67-b470-b4e1f23cc6ee",
      "metadata": {
        "id": "2eb7a0d9-6327-4e67-b470-b4e1f23cc6ee"
      },
      "source": [
        "* **Q12/** intégration par la méthode d'Euler"
      ]
    },
    {
      "cell_type": "code",
      "execution_count": 40,
      "id": "44b957b7-999b-400c-8fe7-dc87532488fe",
      "metadata": {
        "id": "44b957b7-999b-400c-8fe7-dc87532488fe"
      },
      "outputs": [],
      "source": [
        "def euler(E0,dt,n) :\n",
        "    \"\"\" E0 est une liste de 4 flottants (un vecteur d'état, dt est un flottant (le pas) et n un entier (le nombre de pas de la simulation\n",
        "    La fonction renvoie une liste de vecteurs d'état obtenus en appliquant la méthode d'euler à l'edo proposée\"\"\"\n",
        "    Es=[E0]\n",
        "    # euler donne E_{k+1}=E_k + dt*derive(E_k)\n",
        "    for k in range(n) :\n",
        "        Es.append(vma(Es[k],dt,derive(Es[k])))\n",
        "    return Es"
      ]
    },
    {
      "cell_type": "code",
      "execution_count": 41,
      "id": "b5b69cb7-9e92-4ca3-b959-bf828f260cb0",
      "metadata": {
        "id": "b5b69cb7-9e92-4ca3-b959-bf828f260cb0"
      },
      "outputs": [],
      "source": [
        "# simulation\n",
        "DT=0.002   # durée du pas en secondes\n",
        "N=5000     # nombre de pas\n",
        "Es=euler([0.0,0.0,0.0,0.0],DT,N)"
      ]
    },
    {
      "cell_type": "markdown",
      "id": "0b2112b4-7fec-4b35-baa4-1e2f784f54c5",
      "metadata": {
        "id": "0b2112b4-7fec-4b35-baa4-1e2f784f54c5"
      },
      "source": [
        "**La partie ci-dessous est un test (juste pour vérifier)**"
      ]
    },
    {
      "cell_type": "code",
      "execution_count": 42,
      "id": "58f10010-496e-4a70-8947-0cc767af3006",
      "metadata": {
        "id": "58f10010-496e-4a70-8947-0cc767af3006",
        "outputId": "a6e839af-8ef4-474b-99ba-415e8a1275ad",
        "colab": {
          "base_uri": "https://localhost:8080/",
          "height": 334
        }
      },
      "outputs": [
        {
          "output_type": "display_data",
          "data": {
            "image/png": "[encoded data removed]",
            "text/plain": [
              "<Figure size 504x360 with 1 Axes>"
            ]
          },
          "metadata": {
            "needs_background": "light"
          }
        }
      ],
      "source": [
        "import matplotlib.pyplot as plt\n",
        "Lx=[1e3*elem[0] for elem in Es]\n",
        "Ly=[1e3*elem[1] for elem in Es]\n",
        "plt.figure(figsize=(7,5))\n",
        "plt.plot(Lx,Ly, \"-r\")\n",
        "plt.xlabel(\"x(mm)\")\n",
        "plt.ylabel(\"y(mm)\")\n",
        "plt.show()"
      ]
    },
    {
      "cell_type": "markdown",
      "id": "d8289eac-0222-4f78-9ecd-5fe65e4ee548",
      "metadata": {
        "id": "d8289eac-0222-4f78-9ecd-5fe65e4ee548"
      },
      "source": [
        "Le graphique obtenu n'est pas à la même échelle que celui de l'énoncé!\n",
        "\n",
        "Peut être il a changé les constantes! "
      ]
    },
    {
      "cell_type": "markdown",
      "id": "b23084dd-921c-4b69-98f4-01b90d0ba251",
      "metadata": {
        "id": "b23084dd-921c-4b69-98f4-01b90d0ba251"
      },
      "source": [
        "# Partie III. Marche auto-évitante"
      ]
    },
    {
      "cell_type": "markdown",
      "id": "fcaed4d1-3306-4fa8-86a1-9228be496521",
      "metadata": {
        "id": "fcaed4d1-3306-4fa8-86a1-9228be496521"
      },
      "source": [
        "* **Q13/** positions auto-évitantes suivantes possibles"
      ]
    },
    {
      "cell_type": "code",
      "execution_count": 43,
      "id": "7518ab01-a52b-47ca-9896-cc3fdcfca508",
      "metadata": {
        "id": "7518ab01-a52b-47ca-9896-cc3fdcfca508"
      },
      "outputs": [],
      "source": [
        "from random import randrange,choice"
      ]
    },
    {
      "cell_type": "code",
      "execution_count": 44,
      "id": "1a863d87-e075-4583-9ec1-b0d73a66d63c",
      "metadata": {
        "id": "1a863d87-e075-4583-9ec1-b0d73a66d63c"
      },
      "outputs": [],
      "source": [
        "def positions_possibles(p,atteints) :\n",
        "    \"\"\" p est une liste de deux entiers (un point), atteints est une liste de points\n",
        "    La fonction renvoie les déplacements possibles depuis p\"\"\"\n",
        "    # avec la modélisation, recouper le chemin c'est passer par un point déjà exploré\n",
        "    possibles=[]\n",
        "    # A compléter\n",
        "    voisins=[[p[0]-1,p[1]],[p[0]+1,p[1]],[p[0],p[1]-1],[p[0],p[1]+1]]\n",
        "    for point in voisins :\n",
        "        if not(point in atteints) :\n",
        "            possibles.append(point)\n",
        "    return possibles"
      ]
    },
    {
      "cell_type": "markdown",
      "id": "4146c50f-071e-4135-9ecf-a8cdf9b15703",
      "metadata": {
        "id": "4146c50f-071e-4135-9ecf-a8cdf9b15703"
      },
      "source": [
        "* **Q14/** Il suﬃt de tourner en \"escargot\" : haut-droite-droite-bas-bas-gauche-haut, il y a une symétrie horizontale et 3 rotations de 90°. Cela fait 8 possibilités.\n"
      ]
    },
    {
      "cell_type": "code",
      "execution_count": 45,
      "id": "d7879c1b-9f5d-40e3-a28d-71d1b7c7d3bf",
      "metadata": {
        "id": "d7879c1b-9f5d-40e3-a28d-71d1b7c7d3bf",
        "outputId": "ee233e00-64ee-433c-eb47-12980bc85069",
        "colab": {
          "base_uri": "https://localhost:8080/",
          "height": 265
        }
      },
      "outputs": [
        {
          "output_type": "display_data",
          "data": {
            "image/png": "[encoded data removed]",
            "text/plain": [
              "<Figure size 432x288 with 1 Axes>"
            ]
          },
          "metadata": {
            "needs_background": "light"
          }
        }
      ],
      "source": [
        "# visualisation (n'est pas demandé dans l'énoncé)\n",
        "import matplotlib.pyplot as plt\n",
        "chemin_x = [0,-1,-1,-1,0,1,1,0]\n",
        "chemin_y = [0,0,1,2,2,2,1,1]\n",
        "plt.plot(chemin_x,chemin_y,\"o-r\")\n",
        "plt.axis(\"equal\")\n",
        "plt.grid(\"on\")\n",
        "plt.xticks([-1, 0, 1])\n",
        "plt.yticks([0, 1, 2])\n",
        "plt.text(0.1, 0.05, \"Départ\")\n",
        "plt.text(-0.5, 1.05, \"Bloqué !\")\n",
        "plt.show()"
      ]
    },
    {
      "cell_type": "markdown",
      "id": "5ea0f86b-8a71-4fc5-8863-e325c3f7b8db",
      "metadata": {
        "id": "5ea0f86b-8a71-4fc5-8863-e325c3f7b8db"
      },
      "source": [
        "* **Q15/** "
      ]
    },
    {
      "cell_type": "code",
      "execution_count": 46,
      "id": "1853b822-9a36-41bd-829b-6c97525ede15",
      "metadata": {
        "id": "1853b822-9a36-41bd-829b-6c97525ede15"
      },
      "outputs": [],
      "source": [
        "def genere_chemin_naif(n) :\n",
        "    \"\"\" n est un entier\n",
        "    La fonction renvoie un chemin auto-évitant de longueur n\"\"\"\n",
        "    chemin=[[0,0]]   # on part de l'origine\n",
        "    # A compléter\n",
        "    for i in range(n) :\n",
        "        mvntsPossibles=positions_possibles(chemin[i],chemin)\n",
        "        if mvntsPossibles==[] :\n",
        "            return None\n",
        "        chemin.append(choice(mvntsPossibles))\n",
        "    return chemin"
      ]
    },
    {
      "cell_type": "markdown",
      "id": "ef24d7f2-c175-4422-89a1-d98843dd5893",
      "metadata": {
        "id": "ef24d7f2-c175-4422-89a1-d98843dd5893"
      },
      "source": [
        "* **Q16/** "
      ]
    },
    {
      "cell_type": "code",
      "execution_count": 47,
      "id": "1aa947cb-758e-40e9-b24b-0ee13c80def4",
      "metadata": {
        "id": "1aa947cb-758e-40e9-b24b-0ee13c80def4"
      },
      "outputs": [],
      "source": [
        "N=100\n",
        "#print(\"chemin\",genere_chemin_naif(N))"
      ]
    },
    {
      "cell_type": "markdown",
      "id": "c9df90e8-66bf-4927-82e6-a4668989c87b",
      "metadata": {
        "id": "c9df90e8-66bf-4927-82e6-a4668989c87b"
      },
      "source": [
        "**Complexité** :  la fonction `positions_possibles()` est en O(n) avec n la taille de atteints puisque l'on vérifie que les 4 voisins appartiennent à atteints.\n",
        "\n",
        "A chaque itération, on appelle `positions_possibles()` dont le temps d'exécution est variable le reste est en temps constant (amorti pour `append()`). On fait donc de l'ordre de 1, puis 2 puis 3, puis 4 etc jusqu'à $n$ opérations à chaque itération. La complexité est comme la somme des entiers ($\\sum^{n}_{k = 1} k$) elle est donc de $O(n^2)$"
      ]
    },
    {
      "cell_type": "markdown",
      "id": "fc2da3c7-1656-4108-a537-bcfea2f9afbc",
      "metadata": {
        "id": "fc2da3c7-1656-4108-a537-bcfea2f9afbc"
      },
      "source": [
        "* **Q17/** Le graphique représente la proportion de chemin non aboutis de longueur n (n est l'abscisse et la proportion est l'ordonnée).\n",
        "La proportion est calculée avec 10000 essais, le graphique montre que quand n augmente, la plupart du temps la méthode naïve n'aboutit pas.\n"
      ]
    },
    {
      "cell_type": "markdown",
      "id": "1d68fdee-dd7a-495e-819c-d6a7d1b907c4",
      "metadata": {
        "id": "1d68fdee-dd7a-495e-819c-d6a7d1b907c4"
      },
      "source": [
        "* **Q18/** sorted implémente une variation du tri rapide dont la complexité est en $O(nlog(n))$. Le tri-fusion réalise un tri d'une liste de taille 𝑛 , dans le cas le pire, avec une complexité en $O(nlog(n))$. C'est la meilleure complexité possible dans le cas le pire."
      ]
    },
    {
      "cell_type": "markdown",
      "id": "15b423fb-d250-48c4-9fa9-43a7469ae579",
      "metadata": {
        "id": "15b423fb-d250-48c4-9fa9-43a7469ae579"
      },
      "source": [
        "* **Q19/** "
      ]
    },
    {
      "cell_type": "code",
      "execution_count": 48,
      "id": "4381cef2-36c9-4d9e-a7b7-0aec643b2bc1",
      "metadata": {
        "id": "4381cef2-36c9-4d9e-a7b7-0aec643b2bc1"
      },
      "outputs": [],
      "source": [
        "def est_CAE(chemin) :\n",
        "    \"\"\" chemin est une liste de liste de deux flottants (des points)\n",
        "    La fonction renvoie un booléen caractérisant le fait que le chemin est auto-evitant\"\"\"\n",
        "    chemTrie=sorted(chemin)\n",
        "    # la liste étant triée, s'il y a des doublons ils seront consécutifs\n",
        "    for i in range(len(chemTrie)-1) :\n",
        "        if chemTrie[i]==chemTrie[i+1] :\n",
        "            return False\n",
        "    return True"
      ]
    },
    {
      "cell_type": "markdown",
      "id": "95bdd691-fa6f-48ab-a573-b70b2588ac7a",
      "metadata": {
        "id": "95bdd691-fa6f-48ab-a573-b70b2588ac7a"
      },
      "source": [
        "Si le chemin est de taille , le tri coûte $O(nlog(n))$ opérations, et la boucle coûte 𝑛 accès et tests d'égalité entre deux points, qui se font en $O(1)$ opérations.\n",
        "\n",
        "La complexité dans le pire des cas de la fonction précédente est bien en $O(nlog(n))$."
      ]
    },
    {
      "cell_type": "markdown",
      "id": "62f04602-5f58-417d-9f0f-e52b30eb1060",
      "metadata": {
        "id": "62f04602-5f58-417d-9f0f-e52b30eb1060"
      },
      "source": [
        "* **Q20/** "
      ]
    },
    {
      "cell_type": "code",
      "execution_count": 49,
      "id": "645d37b8-514b-4619-bf71-3ab701b889dd",
      "metadata": {
        "id": "645d37b8-514b-4619-bf71-3ab701b889dd"
      },
      "outputs": [],
      "source": [
        "def rot(p,q,a) :\n",
        "    \"\"\" p et q sont des listes de 2 entiers (des points), à est O, 1 ou 2\n",
        "    La fonction renvoie les coordonnées de la rotation de q autour de p,\n",
        "    l'angle vaut pi si A=0, pi/2 si a=1, -pi/2 si a=2\"\"\"\n",
        "    # en travaillant sur le vecteur pq on trouve\n",
        "    if a==0 :\n",
        "        nouvQ=[2*p[0]-q[0],2*p[1]-q[1]]\n",
        "    elif a==1 :\n",
        "        nouvQ=[p[0]+p[1]-q[1],p[1]-p[0]+q[0]]\n",
        "    else :\n",
        "        nouvQ=[p[0]-p[1]+q[1],p[0]+p[1]-q[0]]\n",
        "    return nouvQ"
      ]
    },
    {
      "cell_type": "code",
      "execution_count": 50,
      "id": "f41609bc-24b6-4605-93c5-cbe4eb967f4c",
      "metadata": {
        "id": "f41609bc-24b6-4605-93c5-cbe4eb967f4c",
        "outputId": "701a1390-5ac5-4e62-a31f-d47f34a5e11e",
        "colab": {
          "base_uri": "https://localhost:8080/"
        }
      },
      "outputs": [
        {
          "output_type": "stream",
          "name": "stdout",
          "text": [
            "[1, 4]\n"
          ]
        }
      ],
      "source": [
        "print(rot([1,0],[5,0],1))"
      ]
    },
    {
      "cell_type": "markdown",
      "id": "39da1ec0-c2be-4957-9de1-abe09fa3f1cc",
      "metadata": {
        "id": "39da1ec0-c2be-4957-9de1-abe09fa3f1cc"
      },
      "source": [
        "* **Q21/** "
      ]
    },
    {
      "cell_type": "code",
      "execution_count": 51,
      "id": "0f08239a-709c-46aa-94cf-a6785dad9a33",
      "metadata": {
        "id": "0f08239a-709c-46aa-94cf-a6785dad9a33"
      },
      "outputs": [],
      "source": [
        "def rotation(chemin,i_pivot,a) :\n",
        "    \"\"\"chemin est une liste de liste de deux flottants (des points), i_pivot est un entier indice\n",
        "    de chemin, a est un entier 0, 1 ou 2\n",
        "    La fonction renvoie le chemin dont les points après i_pivot ont subi une rotation\n",
        "    a codée comme précédemment\"\"\"\n",
        "    nouvChem=chemin[:i_pivot+1]\n",
        "    for i in range(i_pivot+1,len(chemin)) :\n",
        "        nouvChem.append(rot(chemin[i_pivot],chemin[i],a))\n",
        "    return nouvChem"
      ]
    },
    {
      "cell_type": "markdown",
      "id": "931ef304-676c-465e-bd6c-b91ad3339135",
      "metadata": {
        "id": "931ef304-676c-465e-bd6c-b91ad3339135"
      },
      "source": [
        "* **Q22/** "
      ]
    },
    {
      "cell_type": "code",
      "execution_count": 52,
      "id": "dda30e4e-a0d8-4f2b-bb4d-c6cc7d6fb946",
      "metadata": {
        "id": "dda30e4e-a0d8-4f2b-bb4d-c6cc7d6fb946"
      },
      "outputs": [],
      "source": [
        "from random import randrange"
      ]
    },
    {
      "cell_type": "code",
      "execution_count": 53,
      "id": "be737f28-cf20-4f4e-8c9d-264d9e717e16",
      "metadata": {
        "id": "be737f28-cf20-4f4e-8c9d-264d9e717e16"
      },
      "outputs": [],
      "source": [
        "def genere_chemin_pivot(n,n_rot) :\n",
        "    \"\"\" n et n_rot sont des entiers\n",
        "    La fonction renvoie un chemin de longueur n en appliquant n_rot rotations\n",
        "    \"\"\"\n",
        "    chem=[[k,0] for k in range(n)]   # génération d'une chemin initial\n",
        "    k=0\n",
        "    while k<n :\n",
        "        i_piv=randrange(1,n)\n",
        "        a=randrange(0,3)\n",
        "        chemTemp=rotation(chem,i_piv,a)\n",
        "        if est_CAE(chemTemp) :\n",
        "            chem=chemTemp\n",
        "            k+=1\n",
        "    return chem"
      ]
    },
    {
      "cell_type": "markdown",
      "id": "a7844146-e37a-4cc4-bdbc-4683aed5f0e0",
      "metadata": {
        "id": "a7844146-e37a-4cc4-bdbc-4683aed5f0e0"
      },
      "source": [
        "* **Q23/** "
      ]
    },
    {
      "cell_type": "code",
      "execution_count": 54,
      "id": "b7bc89df-58c1-4d5d-bbda-bb41c559653a",
      "metadata": {
        "id": "b7bc89df-58c1-4d5d-bbda-bb41c559653a"
      },
      "outputs": [],
      "source": [
        "N,A=1000,2.3\n",
        "#print(\"chemin\",genere_chemin_pivot(N,int(A*N)))"
      ]
    },
    {
      "cell_type": "code",
      "execution_count": 56,
      "id": "5ae99fdc-480d-4443-b6d5-67edb5b41ef2",
      "metadata": {
        "id": "5ae99fdc-480d-4443-b6d5-67edb5b41ef2",
        "outputId": "63005a59-209b-49b1-a05b-c792ef044c79",
        "colab": {
          "base_uri": "https://localhost:8080/",
          "height": 320
        }
      },
      "outputs": [
        {
          "output_type": "display_data",
          "data": {
            "image/png": "[encoded data removed]",
            "text/plain": [
              "<Figure size 504x360 with 1 Axes>"
            ]
          },
          "metadata": {
            "needs_background": "light"
          }
        }
      ],
      "source": [
        "# visualisation (n'est pas demandé dans l'énoncé)\n",
        "monChemin=genere_chemin_pivot(N,int(A*N))\n",
        "Lx=[point[0] for point in monChemin]\n",
        "Ly=[point[1] for point in monChemin]\n",
        "plt.figure(figsize=(7, 5))\n",
        "plt.plot(Lx,Ly, \"-r\")\n",
        "plt.axis(\"equal\")\n",
        "plt.show()"
      ]
    },
    {
      "cell_type": "markdown",
      "id": "d8a5f8d1-0f0b-4eda-85ef-ad3fa2d8910a",
      "metadata": {
        "id": "d8a5f8d1-0f0b-4eda-85ef-ad3fa2d8910a"
      },
      "source": [
        "L'organisation des trois points permet de savoir si une des rotations n'est pas pertinente auquel cas il est inutile de l'explorer. On peut donc ne travailler que sur deux valeurs de a.\n",
        "\n",
        "Soient $A$, $B$ et $C$ respectivement, le pivot, le précédent et le suivant. Le produit vectoriel $AC*AB$ donne l'alignement ou l'orientation de l'angle (AC,AB). On calcule donc le déterminant avec $A_{pivot}(x0,y0)$, $B_{précédent}(x1,y1)$ et $C_{suivant}(x2,y2)$, on calcule $(x2-x0)*(y1-y0)-(x1-x0)*(y2-y0)$.\n",
        "\n",
        "* si il est nul on  ne prend pas $\\pi$\n",
        "* si il est positif (il vaudra 1) on ne prend pas $\\pi/2$\n",
        "* si il est négatif (il vaudra -1) on ne prend pas $-\\pi/2$\n",
        "\n",
        "Il faut alors changer `a=randrange(0,3)` par le calcul du déterminant puis la suite de test avec une fonction `choice()` du module `random` sur une liste de deux valeurs. Soit le code suivant (par exemple) :\n",
        "```python\n",
        "from random import choice\n",
        "i_piv = ranrange(1,n) # déjà écrit\n",
        "A_piv=chemin[i_piv]\n",
        "B_prec=chemin[i_piv-1]\n",
        "C_suiv=chemin[i_piv+1]\n",
        "det=(C_suiv[0]-A_piv[0])*(B_prec[1]-A_piv[1])-(B_prec[0]-A_piv[0])*(C_suiv[1]-A_piv[1])\n",
        "if det==0:\n",
        "    a=choice([1,2])\n",
        "elif det>0:\n",
        "    a=choice([0,2])\n",
        "else:\n",
        "    a=choice([0,1])\n",
        "chemin_piv = rotation(chemin,i_piv,a) # déjà écrit\n",
        "```"
      ]
    },
    {
      "cell_type": "code",
      "execution_count": null,
      "id": "58bbdc39-df87-42ae-a7a7-635e1cdad994",
      "metadata": {
        "id": "58bbdc39-df87-42ae-a7a7-635e1cdad994"
      },
      "outputs": [],
      "source": [
        ""
      ]
    }
  ],
  "metadata": {
    "kernelspec": {
      "display_name": "Python 3 (ipykernel)",
      "language": "python",
      "name": "python3"
    },
    "language_info": {
      "codemirror_mode": {
        "name": "ipython",
        "version": 3
      },
      "file_extension": ".py",
      "mimetype": "text/x-python",
      "name": "python",
      "nbconvert_exporter": "python",
      "pygments_lexer": "ipython3",
      "version": "3.9.7"
    },
    "colab": {
      "name": "MinesPonts2021-corrigé.ipynb",
      "provenance": [],
      "include_colab_link": true
    }
  },
  "nbformat": 4,
  "nbformat_minor": 5
}