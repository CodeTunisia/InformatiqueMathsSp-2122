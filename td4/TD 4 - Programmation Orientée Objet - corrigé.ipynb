{
 "cells": [
  {
   "cell_type": "markdown",
   "metadata": {},
   "source": [
    "# Exercice 1 : Pile de points du plan"
   ]
  },
  {
   "cell_type": "code",
   "execution_count": 8,
   "metadata": {},
   "outputs": [],
   "source": [
    "class Pile(object):\n",
    "    def __init__(self):\n",
    "        self.liste = []\n",
    "    def empiler(self, x):\n",
    "        self.liste.append(x)\n",
    "    def depiler(self):\n",
    "        if not self.est_vide():\n",
    "            return self.liste.pop()\n",
    "    def est_vide(self):\n",
    "        return self.liste == []\n",
    "    def __repr__(self):\n",
    "        return str(self.liste)"
   ]
  },
  {
   "cell_type": "code",
   "execution_count": 24,
   "metadata": {},
   "outputs": [],
   "source": [
    "def points():\n",
    "    px = Pile() # instanciation de l'objet px\n",
    "    py = Pile() # instanciation de l'objet py\n",
    "    while True:\n",
    "        reponse=input(\"Entrer x,y ou e (effacer) ou f (fin) : \")\n",
    "        if reponse==\"f\":\n",
    "            break\n",
    "        elif reponse==\"e\":\n",
    "            if not (px.est_vide() and px.est_vide()):\n",
    "                x = px.depiler() # dépiler et afficher la valeur\n",
    "                y = py.depiler() # dépiler et afficher la valeur\n",
    "                print(\"point {},{} effacé!\".format(x, y))\n",
    "            else:\n",
    "                print(\"veuillez verifier que les piles ne sont pas vides\")\n",
    "        else:\n",
    "            [x,y] = reponse.split(\",\")\n",
    "            x = float(x) # x et y sont des nombre réels\n",
    "            y = float(y)\n",
    "            px.empiler(x)\n",
    "            py.empiler(y)\n",
    "            print(\"point {},{} ajouté!\".format(x, y))\n",
    "    return px, py"
   ]
  },
  {
   "cell_type": "code",
   "execution_count": 25,
   "metadata": {},
   "outputs": [
    {
     "name": "stdout",
     "output_type": "stream",
     "text": [
      "Entrer x,y ou e (effacer) ou f (fin) : 2, 4\n",
      "point 2.0,4.0 ajouté!\n",
      "Entrer x,y ou e (effacer) ou f (fin) : 9, 8\n",
      "point 9.0,8.0 ajouté!\n",
      "Entrer x,y ou e (effacer) ou f (fin) : 4, 1\n",
      "point 4.0,1.0 ajouté!\n",
      "Entrer x,y ou e (effacer) ou f (fin) : e\n",
      "point 4.0,1.0 effacé!\n",
      "Entrer x,y ou e (effacer) ou f (fin) : f\n"
     ]
    },
    {
     "data": {
      "text/plain": [
       "([2.0, 9.0], [4.0, 8.0])"
      ]
     },
     "execution_count": 25,
     "metadata": {},
     "output_type": "execute_result"
    }
   ],
   "source": [
    "points()"
   ]
  },
  {
   "cell_type": "markdown",
   "metadata": {},
   "source": [
    "# Exercice 2 : Classe Satellite"
   ]
  },
  {
   "cell_type": "code",
   "execution_count": 35,
   "metadata": {},
   "outputs": [],
   "source": [
    "class satellite():\n",
    "    def __init__(self,nom,m=100,V=0):\n",
    "        self.nom=nom\n",
    "        self.masse=m\n",
    "        self.vitesse=V\n",
    "    def impulsion(self,force,duree):\n",
    "        self.vitesse += (force*duree)/self.masse\n",
    "    def energie(self):\n",
    "        return(1/2*(self.masse*self.vitesse**2))\n",
    "    def affiche_vitesse(self):\n",
    "        print('vitesse courante:',self.vitesse, \"m/s\")\n",
    "    def __repr__(self):\n",
    "        return(self.nom + 'a une vitesse = à ' +str(self.vitesse)+\" m/s\")"
   ]
  },
  {
   "cell_type": "code",
   "execution_count": 46,
   "metadata": {},
   "outputs": [
    {
     "name": "stdout",
     "output_type": "stream",
     "text": [
      "vitesse courante: 240 m/s\n"
     ]
    }
   ],
   "source": [
    "s = satellite('Nilesat',250,240)\n",
    "s.affiche_vitesse()"
   ]
  },
  {
   "cell_type": "code",
   "execution_count": 47,
   "metadata": {},
   "outputs": [
    {
     "name": "stdout",
     "output_type": "stream",
     "text": [
      "Nilesata une vitesse = à 240 m/s\n"
     ]
    }
   ],
   "source": [
    "print(s)"
   ]
  },
  {
   "cell_type": "code",
   "execution_count": 48,
   "metadata": {},
   "outputs": [
    {
     "data": {
      "text/plain": [
       "7200000.0"
      ]
     },
     "execution_count": 48,
     "metadata": {},
     "output_type": "execute_result"
    }
   ],
   "source": [
    "s.energie()"
   ]
  },
  {
   "cell_type": "code",
   "execution_count": 49,
   "metadata": {},
   "outputs": [
    {
     "name": "stdout",
     "output_type": "stream",
     "text": [
      "vitesse courante: 262.464 m/s\n"
     ]
    }
   ],
   "source": [
    "s.impulsion(234,24)\n",
    "s.affiche_vitesse()"
   ]
  },
  {
   "cell_type": "code",
   "execution_count": 50,
   "metadata": {},
   "outputs": [
    {
     "name": "stdout",
     "output_type": "stream",
     "text": [
      "vitesse courante: 144.0 m/s\n"
     ]
    }
   ],
   "source": [
    "s.impulsion(-1234,24)\n",
    "s.affiche_vitesse()"
   ]
  },
  {
   "cell_type": "markdown",
   "metadata": {},
   "source": [
    "# Exercice 3 : Classes Point, Pixel et Carré"
   ]
  },
  {
   "cell_type": "code",
   "execution_count": 4,
   "metadata": {},
   "outputs": [],
   "source": [
    "from turtle import *\n",
    "#Q1.\n",
    "class Point():\n",
    "    #constructeur de classe\n",
    "    def __init__(self,x=0,y=0):#methode speciale \n",
    "        self.abs=x #attributs\n",
    "        self.ord=y\n",
    "    def __str__(self):\n",
    "        return(str(self.abs)+';'+str(self.ord))\n",
    "# Q2.\n",
    "class Pixel(Point):\n",
    "    def emplacement(self):\n",
    "        penup()\n",
    "        goto(self.abs,self.ord)\n",
    "        pendown()"
   ]
  },
  {
   "cell_type": "code",
   "execution_count": 5,
   "metadata": {},
   "outputs": [],
   "source": [
    "# Q3.\n",
    "class Carre:\n",
    "    def __init__(self, cote, x, y):\n",
    "        self.coin=Pixel(x,y)\n",
    "        self.cote = cote\n",
    "    def perimetre(self):\n",
    "        return self.cote*4\n",
    "    def surface(self):\n",
    "        return self.cote*self.cote\n",
    "    def dessiner(self):\n",
    "        self.coin.emplacement()\n",
    "        for _ in range(4):\n",
    "            forward(self.cote)\n",
    "            right(90)"
   ]
  },
  {
   "cell_type": "code",
   "execution_count": 10,
   "metadata": {},
   "outputs": [],
   "source": [
    "c1 = Carre(40, 0,0)\n",
    "c1.dessiner()\n",
    "c2 = Carre(80, -20,20)\n",
    "c2.dessiner()\n",
    "mainloop()"
   ]
  },
  {
   "cell_type": "code",
   "execution_count": 215,
   "metadata": {},
   "outputs": [],
   "source": [
    "def boite(n):\n",
    "    cote = 50\n",
    "    for x in range(0, n, 10):\n",
    "        c = Carre(cote+2*x,-x,x)\n",
    "        c.dessiner()\n",
    "        if x < n//4:\n",
    "            pencolor(\"blue\")\n",
    "        elif x < n//2:\n",
    "            pencolor(\"red\")\n",
    "        else:\n",
    "            pencolor(\"green\")\n",
    "        \n",
    "    mainloop()"
   ]
  },
  {
   "cell_type": "code",
   "execution_count": 217,
   "metadata": {},
   "outputs": [],
   "source": [
    "boite(100)"
   ]
  },
  {
   "cell_type": "markdown",
   "metadata": {},
   "source": [
    "# Exercice 4 : Classes de cylindres et de cônes"
   ]
  },
  {
   "cell_type": "code",
   "execution_count": 1,
   "metadata": {},
   "outputs": [],
   "source": [
    "# Classes dérivées - polymorphisme\n",
    "import math as m\n",
    "class Cercle:\n",
    "    def __init__(self, rayon):\n",
    "        self.rayon = rayon\n",
    "    def surface(self):\n",
    "        return m.pi * self.rayon**2\n",
    "class Cylindre(Cercle):\n",
    "    def __init__(self, rayon, hauteur):\n",
    "        Cercle.__init__(self, rayon)\n",
    "        self.hauteur = hauteur\n",
    "    def volume(self):\n",
    "        return self.surface()*self.hauteur\n",
    "        # la méthode surface() est héritée de la classe parente\n",
    "class Cone(Cylindre):\n",
    "    def volume(self):\n",
    "        return Cylindre.volume(self)/3\n",
    "    # cette nouvelle méthode volume() remplace celle que\n",
    "    # l'on a héritée de la classe parente \n",
    "    # c'est un exemple de polymorphisme"
   ]
  },
  {
   "cell_type": "code",
   "execution_count": 2,
   "metadata": {},
   "outputs": [
    {
     "name": "stdout",
     "output_type": "stream",
     "text": [
      "78.53981633974483\n"
     ]
    }
   ],
   "source": [
    "cyl = Cylindre(5, 7)\n",
    "print(cyl.surface())"
   ]
  },
  {
   "cell_type": "code",
   "execution_count": 3,
   "metadata": {},
   "outputs": [
    {
     "name": "stdout",
     "output_type": "stream",
     "text": [
      "549.7787143782139\n"
     ]
    }
   ],
   "source": [
    "print(cyl.volume())"
   ]
  },
  {
   "cell_type": "code",
   "execution_count": 4,
   "metadata": {},
   "outputs": [
    {
     "name": "stdout",
     "output_type": "stream",
     "text": [
      "183.2595714594046\n"
     ]
    }
   ],
   "source": [
    "co = Cone(5,7)\n",
    "print(co.volume())"
   ]
  },
  {
   "cell_type": "markdown",
   "metadata": {},
   "source": [
    "# Exercice 5 : Arithmétique d’intervalles"
   ]
  },
  {
   "cell_type": "code",
   "execution_count": 17,
   "metadata": {},
   "outputs": [],
   "source": [
    "## Q1. \n",
    "class IntervalMath(object):\n",
    "    def __init__(self, lower, upper):\n",
    "        self.lo = lower\n",
    "        self.up = upper\n",
    "\n",
    "    def __add__(self, other):\n",
    "        a, b, c, d = self.lo, self.up, other.lo, other.up\n",
    "        return IntervalMath(a + c, b + d)\n",
    "\n",
    "    def __sub__(self, other):\n",
    "        a, b, c, d = self.lo, self.up, other.lo, other.up\n",
    "        return IntervalMath(a - d, b - c)\n",
    "\n",
    "    def __mul__(self, other):\n",
    "        a, b, c, d = self.lo, self.up, other.lo, other.up\n",
    "        return IntervalMath(min(a*c, a*d, b*c, b*d),\n",
    "                            max(a*c, a*d, b*c, b*d))\n",
    "\n",
    "    def __truediv__(self, other):\n",
    "        a, b, c, d = self.lo, self.up, other.lo, other.up\n",
    "        # [c,d] ne peut pas contenir zéro :\n",
    "        if c*d <= 0:\n",
    "            raise ValueError('Intervalle {} contient zéro'.format(other))\n",
    "        return IntervalMath(min(a/c, a/d, b/c, b/d), max(a/c, a/d, b/c, b/d))\n",
    "\n",
    "    def __repr__(self):\n",
    "        return \"[{:.2f}, {:.2f}]\".format(self.lo, self.up)\n",
    "    ## Q3.\n",
    "    def __rmul__(self, other):\n",
    "        return IntervalMath(other, other)*self\n",
    "        \n",
    "    ## Q5.\n",
    "    def moyenne(self):\n",
    "        return 0.5*(self.lo + self.up)\n",
    "\n",
    "   "
   ]
  },
  {
   "cell_type": "code",
   "execution_count": 18,
   "metadata": {},
   "outputs": [],
   "source": [
    "# Q2.\n",
    "a = IntervalMath(-3, -2)\n",
    "b = IntervalMath(4, 5)"
   ]
  },
  {
   "cell_type": "code",
   "execution_count": 19,
   "metadata": {},
   "outputs": [
    {
     "data": {
      "text/plain": [
       "[1.00, 3.00]"
      ]
     },
     "execution_count": 19,
     "metadata": {},
     "output_type": "execute_result"
    }
   ],
   "source": [
    "a + b"
   ]
  },
  {
   "cell_type": "code",
   "execution_count": 20,
   "metadata": {},
   "outputs": [
    {
     "data": {
      "text/plain": [
       "[-8.00, -6.00]"
      ]
     },
     "execution_count": 20,
     "metadata": {},
     "output_type": "execute_result"
    }
   ],
   "source": [
    "a - b"
   ]
  },
  {
   "cell_type": "code",
   "execution_count": 21,
   "metadata": {},
   "outputs": [
    {
     "data": {
      "text/plain": [
       "[-0.75, -0.40]"
      ]
     },
     "execution_count": 21,
     "metadata": {},
     "output_type": "execute_result"
    }
   ],
   "source": [
    "a / b"
   ]
  },
  {
   "cell_type": "code",
   "execution_count": 22,
   "metadata": {},
   "outputs": [
    {
     "data": {
      "text/plain": [
       "[-6.00, -4.00]"
      ]
     },
     "execution_count": 22,
     "metadata": {},
     "output_type": "execute_result"
    }
   ],
   "source": [
    "# Q3.\n",
    "a = IntervalMath(-3, -2)\n",
    "2*a"
   ]
  },
  {
   "cell_type": "markdown",
   "metadata": {},
   "source": [
    "**Q3.**\n",
    "\n",
    "```python\n",
    ">>>a = IntervalMath(-3, -2)\n",
    ">>>2*a\n",
    "---------------------------------------------------------------------------\n",
    "TypeError                                 Traceback (most recent call last)\n",
    "<ipython-input-17-169d590cbc27> in <module>\n",
    "      1 # Q3.\n",
    "      2 a = IntervalMath(-3, -2)\n",
    "----> 3 2*a\n",
    "\n",
    "TypeError: unsupported operand type(s) for *: 'int' and 'IntervalMath'\n",
    "\n",
    "```\n",
    "Nous voulons maintenant multiplier 2 ( 'int' ) par a ('IntervalMath'), et si a est un intervalle, cette multiplication n’est pas définie parmi les objets int . Pour traiter ce cas, nous devons implémenter une méthode `__rmul__(self, other)` pour faire `other ∗ self`\n",
    "\n",
    "```python\n",
    "def __rmul__(self, other):\n",
    "    return IntervalMath(other, other)*self\n",
    "```"
   ]
  },
  {
   "cell_type": "code",
   "execution_count": 23,
   "metadata": {},
   "outputs": [
    {
     "data": {
      "text/plain": [
       "[-6.00, -4.00]"
      ]
     },
     "execution_count": 23,
     "metadata": {},
     "output_type": "execute_result"
    }
   ],
   "source": [
    "a = IntervalMath(-3, -2)\n",
    "2*a"
   ]
  },
  {
   "cell_type": "markdown",
   "metadata": {},
   "source": [
    "**Q4.** Nous sommes maintenant en mesure de tester la classe étendue IntervalMath"
   ]
  },
  {
   "cell_type": "code",
   "execution_count": 24,
   "metadata": {},
   "outputs": [
    {
     "name": "stdout",
     "output_type": "stream",
     "text": [
      "[0.43, 0.47]\n"
     ]
    }
   ],
   "source": [
    "y_0 = IntervalMath(0.99, 1.01) #2 % d’incertitude\n",
    "Tm = 0.45 # T moyen\n",
    "T = IntervalMath(Tm*0.95, Tm*1.05) # 10% d’incertitude\n",
    "print(T)"
   ]
  },
  {
   "cell_type": "code",
   "execution_count": 26,
   "metadata": {},
   "outputs": [
    {
     "name": "stdout",
     "output_type": "stream",
     "text": [
      "L’intervalle de g = [8.87, 11.05]\n"
     ]
    }
   ],
   "source": [
    "g = 2*y_0/(T*T)\n",
    "print(\"L’intervalle de g =\", g)"
   ]
  },
  {
   "cell_type": "markdown",
   "metadata": {},
   "source": [
    "**Q5.** Écrire une méthode `moyenne()` pour calculer la valeur moyenne de g."
   ]
  },
  {
   "cell_type": "code",
   "execution_count": 27,
   "metadata": {},
   "outputs": [
    {
     "name": "stdout",
     "output_type": "stream",
     "text": [
      "La valeur moyenne de g = 9.961\n"
     ]
    }
   ],
   "source": [
    "print(\"La valeur moyenne de g = {:.3f}\".format(g.moyenne()))"
   ]
  },
  {
   "cell_type": "code",
   "execution_count": null,
   "metadata": {},
   "outputs": [],
   "source": []
  }
 ],
 "metadata": {
  "kernelspec": {
   "display_name": "Python 3",
   "language": "python",
   "name": "python3"
  },
  "language_info": {
   "codemirror_mode": {
    "name": "ipython",
    "version": 3
   },
   "file_extension": ".py",
   "mimetype": "text/x-python",
   "name": "python",
   "nbconvert_exporter": "python",
   "pygments_lexer": "ipython3",
   "version": "3.7.6"
  }
 },
 "nbformat": 4,
 "nbformat_minor": 4
}
